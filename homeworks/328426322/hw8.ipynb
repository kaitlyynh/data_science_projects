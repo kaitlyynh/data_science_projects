{
 "cells": [
  {
   "cell_type": "code",
   "execution_count": null,
   "metadata": {
    "deletable": false,
    "editable": false
   },
   "outputs": [],
   "source": [
    "# Initialize Otter\n",
    "import otter\n",
    "grader = otter.Notebook(\"hw8.ipynb\")"
   ]
  },
  {
   "cell_type": "markdown",
   "metadata": {},
   "source": [
    "## Homework #8"
   ]
  },
  {
   "cell_type": "markdown",
   "metadata": {},
   "source": [
    "*Please edit the cell below to add your name, NetID, and any group members that you collaborated with on this assignment.* **Complete this section before proceeding to the assignment questions.**"
   ]
  },
  {
   "cell_type": "markdown",
   "metadata": {},
   "source": [
    "Name:  Kaitlyn Huynh\n",
    "NetID:  kh3599\n",
    "Group Members:   \n",
    "***"
   ]
  },
  {
   "cell_type": "code",
   "execution_count": null,
   "metadata": {},
   "outputs": [],
   "source": [
    "# Set random seed and ensure plots are displayed in the notebook\n",
    "import numpy as np\n",
    "import arviz as az\n",
    "import seaborn as sns\n",
    "from scipy.stats import multivariate_normal\n",
    "import matplotlib.pyplot as plt\n",
    "import pandas as pd\n",
    "\n",
    "import pymc as pm\n",
    "rnd_seed = 42\n",
    "np.random.seed(rnd_seed)\n",
    "%matplotlib inline\n",
    "\n",
    "%config Inline.figure_format = 'retina'\n",
    "az.rcParams[\"stats.hdi_prob\"] = 0.89  # sets default credible interval used by arviz"
   ]
  },
  {
   "cell_type": "code",
   "execution_count": null,
   "metadata": {},
   "outputs": [],
   "source": [
    "# utility function for standardizing variables\n",
    "def standardize(series):\n",
    "    return (series - series.mean()) / series.std()"
   ]
  },
  {
   "cell_type": "markdown",
   "metadata": {
    "deletable": false,
    "editable": false
   },
   "source": [
    "<!-- BEGIN QUESTION -->\n",
    "\n",
    "**Question 1 (30 points).** Multilevel models can be useful for modeling time series.\n",
    "\n",
    "In a time series, the observations cluster by entities that have continuity through time, such as individuals. Since observations within individuals are likely highly correlated, the multilevel structure can help quite a lot.\n",
    "\n",
    "You’ll use the data in *Data/Oxboys.csv*, which is 234 height measurements on 26 boys from an Oxford Boys Club, at 9 different (standardized) ages per boy.\n",
    "\n",
    "You’ll predict height, using age as a predictor, clustered by Subject (individual boy). \n"
   ]
  },
  {
   "cell_type": "markdown",
   "metadata": {
    "deletable": false,
    "editable": false
   },
   "source": [
    "* Fit a model with varying intercepts and slopes (on age), clustered by Subject. This means your model will have as many intercepts and slopes as Subjects in the dataset. \n",
    "* **Define population mean parameters for both the intercepts and slopes** as estimating both parameters will be useful for Question 3. \n",
    "* Define your model such that you are able to estimate the correlation between intercepts and slopes shared across the Subjects in the dataset.\n",
    "* Use `pymc.LKJCorr(4)` for the prior of the correlation matrix. \n",
    "* **There is no need to perform a prior predictive simulation for this assignment.**"
   ]
  },
  {
   "cell_type": "markdown",
   "metadata": {
    "deletable": false,
    "editable": false
   },
   "source": [
    "Note: Using a centered parameterization for your model should result in a good posterior approximation, so there is no need to define your model using the non-centering trick (shown in lecture) for this model. "
   ]
  },
  {
   "cell_type": "code",
   "execution_count": null,
   "metadata": {
    "tags": []
   },
   "outputs": [],
   "source": [
    "df = pd.read_csv(\"Data/Oxboys.csv\", delimiter=\",\")\n",
    "df[\"sub_idx\"] = df[\"Subject\"].astype(\"category\").cat.codes\n",
    "height = df[\"height\"].values\n",
    "age = standardize(df[\"age\"].values)\n",
    "sub_idx = df[\"sub_idx\"].values\n",
    "num_subjects = df[\"sub_idx\"].nunique()\n",
    "with pm.Model() as model:\n",
    "    a = pm.Normal(\"a\", 150, 10)\n",
    "    b = pm.Normal(\"b\", 0, 1)\n",
    "    mu = pm.math.stack([a, b])\n",
    "    sigma = pm.HalfNormal(\"sigma\", 5)\n",
    "    # LKJ prior for intercept-slope correlation\n",
    "    sd_dist = pm.HalfNormal.dist(1)\n",
    "    chol, correlation, sigmas = pm.LKJCholeskyCov(\n",
    "        \"chol_sub\", n=2, eta=4, sd_dist=sd_dist, compute_corr=True\n",
    "    )\n",
    "    z = pm.Normal(\"z\", 0, 1, shape=(num_subjects, 2))\n",
    "    # correlated intercepts and slopes\n",
    "    res = pm.Deterministic(\"res\", mu + pm.math.dot(z, chol.T))\n",
    "    subject_a = res[:, 0]\n",
    "    subject_b = res[:, 1]\n",
    "    # linear predictor\n",
    "    mu_height = subject_a[sub_idx] + subject_b[sub_idx] * age\n",
    "    height_info = pm.Normal(\"height\", mu=mu_height, sigma=sigma, observed=height)\n",
    "    idata_model = pm.sample(2000, tune=1000,target_accept=0.94, random_seed=42) # do 2000 samples\n",
    "az.summary(idata_model, var_names=[\"a\", \"b\", \"chol_sub_corr\", \"sigma\"])\n",
    "\n",
    "# Plot Intercepts"
   ]
  },
  {
   "cell_type": "markdown",
   "metadata": {
    "deletable": false,
    "editable": false
   },
   "source": [
    "<!-- END QUESTION -->\n",
    "\n",
    "<!-- BEGIN QUESTION -->\n",
    "\n",
    "**Plot** the parameter estimates for the intercepts and slopes for the Subjects and **interpret** these estimates. **Limit your interpretation to 10 sentences.**\n",
    "\n",
    "*Hint: A good way to represent these parameter estimates is with a bar that represents the high density interval for the posterior distribution of the intercept and slope __for each Subject__. You can then add the posterior mean estimate of the intercept and slope for each Subject to the plot. Examples for plotting these distributions can be found in the lecture (and accompany code). One such example is the plot of the distribution of the probability of survival in each tank from the introduction to multilevel models lecture. Another example is the plot of the distributions of the district effects on contraception from the lecture on correlated features.*"
   ]
  },
  {
   "cell_type": "code",
   "execution_count": null,
   "metadata": {
    "tags": []
   },
   "outputs": [],
   "source": [
    "intercepts = extract[\"chol_subject\"][:, :, 0]  # shape: (samples, subjects)\n",
    "slopes = extract[\"chol_subject\"][:, :, 1]\n",
    "\n",
    "# Plot for Intercepts\n",
    "az.plot_forest({\"Intercepts\": intercepts}, \n",
    "               credible_interval=0.94, \n",
    "               combined=True,\n",
    "               ridgeplot_alpha=0.5,\n",
    "               r_hat=True)\n",
    "plt.title(\"Posterior Estimates for Subject Intercepts\")\n",
    "plt.show()\n",
    "\n",
    "# Plot for Slopes\n",
    "az.plot_forest({\"Slopes\": slopes}, \n",
    "               credible_interval=0.94, \n",
    "               combined=True,\n",
    "               ridgeplot_alpha=0.5,\n",
    "               r_hat=True)\n",
    "plt.title(\"Posterior Estimates for Subject Slopes\")\n",
    "plt.show()"
   ]
  },
  {
   "cell_type": "markdown",
   "metadata": {},
   "source": [
    "The estimates for the intercepts and slopes across different subjects indicate different individual growths. Each subject started at different heights, demonstrated by the various intercepts a subject starts at. Some individuals grew faster than others in a shorter amount of time, for example having steeper slopes for growth. The most dense correlation in the graph is around ~0.5 which indicates that boys who started taller grow at a steeper/quicker rate."
   ]
  },
  {
   "cell_type": "markdown",
   "metadata": {
    "deletable": false,
    "editable": false
   },
   "source": [
    "<!-- END QUESTION -->\n",
    "\n",
    "<!-- BEGIN QUESTION -->\n",
    "\n",
    "* For which parameters (the intercepts or the slopes) does the model have more certainty? *Base your response to this question on posterior estimates for the population intercept standard deviation and the population slope standard deviation.* **Limit your response to 5 sentences.**"
   ]
  },
  {
   "cell_type": "code",
   "execution_count": null,
   "metadata": {
    "tags": []
   },
   "outputs": [],
   "source": []
  },
  {
   "cell_type": "markdown",
   "metadata": {},
   "source": [
    "The slope estimates are more certain than the intercept estimates. This is evident in the posterior distributions, where the standard deviation for the slopes is smaller than that for the intercepts. A smaller standard deviation indicates less variation across individuals, which shows consistency in growth rates. The larger variation in intercepts suggests more uncertainty in estimating each subject's starting height. So the model provides more precise estimates for growth rates than for initial height levels."
   ]
  },
  {
   "cell_type": "markdown",
   "metadata": {
    "deletable": false,
    "editable": false
   },
   "source": [
    "<!-- END QUESTION -->\n",
    "\n",
    "<!-- BEGIN QUESTION -->\n",
    "\n",
    "**Question 2 (10 points).** Now consider the estimated correlation between the varying intercepts and slopes. Can you explain its distribution in the context of the problem? **Limit your response to 10 sentences.**\n",
    "\n",
    " *Hint: Your answer should refer to what the correlation implies about expected heights and growth rates for the subjects.*"
   ]
  },
  {
   "cell_type": "code",
   "execution_count": null,
   "metadata": {
    "tags": []
   },
   "outputs": [],
   "source": []
  },
  {
   "cell_type": "markdown",
   "metadata": {},
   "source": [
    "The estimated correlation between the varying intercepts and slopes is mostly positive, the most dense around ~0.5. This could show that subjects who started at a higher height tend to grow at a faster rate. This means that at the start of the study, taller boys usually grow quicker in a shorter time. The positive correlation at ~0.5 means that the differences in height among boys are not closing over time but potentially widening. The variation isn't just in where boys start, but also in how fast they grow. A negative correlation would indicate that shorter boys grow faster. A correlation around ~0 would have suggested a weak to no relationship between starting height and growth rate. "
   ]
  },
  {
   "cell_type": "markdown",
   "metadata": {
    "deletable": false,
    "editable": false
   },
   "source": [
    "<!-- END QUESTION -->\n",
    "\n",
    "<!-- BEGIN QUESTION -->\n",
    "\n",
    "Given some observed heights for a new sample of boys, how would you expect this estimated correlation to influence your predictions for their heights at unobserved ages? Feel free to base your answer off of a visualization of the entire posterior estimate of the correlation or use the mean value from a summary table. However, clearly state which estimated value you are using. **Limit your response to 5 sentences.**"
   ]
  },
  {
   "cell_type": "markdown",
   "metadata": {},
   "source": [
    "The estimated mean of about ~0.5 between the intercepts and slopes could mean that boys who are recorded to be taller at younger ages continue to grow at a faster rate. This means that when predicting heights at unknown ages, the correlation impacts the values by accounting for steeper growth rates for taller boys. Shorter boys would be expected to grow more slowly based on this relationship."
   ]
  },
  {
   "cell_type": "markdown",
   "metadata": {
    "deletable": false,
    "editable": false
   },
   "source": [
    "<!-- END QUESTION -->\n",
    "\n",
    "<!-- BEGIN QUESTION -->\n",
    "\n",
    "**Question 3 (10 points).** Use `scipy.stats.multivariate_normal.rvs()` to simulate a new sample of boys (represented by their observed heights at each age), based upon the posterior mean values of the parameter estimates above. That is, try to simulate varying intercepts and slopes, using the relevant parameter estimates, and then **plot the predicted trends of observed height on age with one trend for each simulated boy you produce**. If you used standardized heights in your model, make sure that the y-axis represents height measured in centimeters.\n",
    "\n",
    "A sample of 10 simulated boys is plenty, to illustrate the lesson. You can ignore uncertainty in the posterior, just to make the problem a little easier. But if you want to include the uncertainty about the parameters, go for it! \n",
    "\n",
    "Note that you can construct a variance-covariance matrix to pass as the `cov` argument to `scipy.stats.multivariate_normal.rvs()` using code similar to the following:\n",
    "\n",
    "`S = numpy.array( [[ sa**2 , sa*sb*rho] , [sa*sb*rho , sb**2] ])`\n",
    "\n",
    "where `sa` is the standard deviation of the first variable, `sb` is the standard deviation of the second variable, and `rho` is the correlation between them.\n",
    "\n",
    "This question does not require any discussion component."
   ]
  },
  {
   "cell_type": "code",
   "execution_count": null,
   "metadata": {
    "tags": []
   },
   "outputs": [],
   "source": [
    "intercept_mean = idata_model.posterior[\"a\"].mean().values\n",
    "slope_mean = idata_model.posterior[\"b\"].mean().values\n",
    "intercept_sd = idata_model.posterior[\"sigmas\"].sel(sigmas_dim_0=0).mean().values\n",
    "slope_sd = idata_model.posterior[\"sigmas\"].sel(sigmas_dim_0=1).mean().values\n",
    "rho = idata_model.posterior[\"correlation\"].sel(correlation_dim_0=0, correlation_dim_1=1).mean().values\n",
    "\n",
    "# Correlation between intercept and slope\n",
    "rho = idata_model.posterior[\"correlation\"].sel(correlation_dim_0=0, correlation_dim_1=1).mean().values\n",
    "\n",
    "cov_matrix = np.array([[intercept_sd**2, intercept_sd*slope_sd*rho],\n",
    "                       [intercept_sd*slope_sd*rho, slope_sd**2]])\n",
    "num_samples = 10 # sample size\n",
    "# calculate intercepts and slopes for each boy\n",
    "simulated_parameters = multivariate_normal.rvs(mean=[intercept_mean, slope_mean], \n",
    "                                                cov=cov_matrix, size=num_samples)\n",
    "# calculate heights for each boy at different ages \n",
    "ages = np.arange(6, 19)  # ages from 6 to 18 inclusive\n",
    "# Plot the trends for each simulated boy\n",
    "plt.figure(figsize=(10, 6))\n",
    "for i in range(num_samples):\n",
    "    intercept = simulated_parameters[i, 0]\n",
    "    slope = simulated_parameters[i, 1]\n",
    "    heights = intercept + slope * (ages - 6) \n",
    "    plt.plot(ages, heights, label=f'Boy {i+1}')\n",
    "\n",
    "plt.xlabel('Age (years)')\n",
    "plt.ylabel('Height (cm)')\n",
    "plt.title('Simulated Heights for 10 Boys')\n",
    "plt.grid(True)\n",
    "plt.show()"
   ]
  },
  {
   "cell_type": "code",
   "execution_count": null,
   "metadata": {
    "deletable": false,
    "editable": false
   },
   "outputs": [],
   "source": [
    "grader.check(\"q3\")"
   ]
  },
  {
   "cell_type": "markdown",
   "metadata": {
    "deletable": false,
    "editable": false
   },
   "source": [
    "<!-- END QUESTION -->\n",
    "\n"
   ]
  },
  {
   "cell_type": "markdown",
   "metadata": {
    "deletable": false,
    "editable": false
   },
   "source": [
    "## Submission\n",
    "\n",
    "Make sure you have run all cells in your notebook in order before running the cell below, so that all images/graphs appear in the output. The cell below will generate a zip file for you to submit. **Please save before exporting!**\n",
    "\n",
    "Before attempting to export your work for submission follow this process: First, make sure you have run all cells in your notebook **in order**. Then, **save your notebook**. Finally, run the export cell below. This sequence of actions will ensure that all code/output/plots appear in the generated PDF. **Only the PDF** will be evaluated for grading purposes.  When executed, the cell below will generate a zip file for you to submit."
   ]
  },
  {
   "cell_type": "code",
   "execution_count": null,
   "metadata": {
    "deletable": false,
    "editable": false
   },
   "outputs": [],
   "source": [
    "# Save your notebook first, then run this cell to export your submission.\n",
    "grader.export(run_tests=True)"
   ]
  },
  {
   "cell_type": "markdown",
   "metadata": {},
   "source": [
    " "
   ]
  }
 ],
 "metadata": {
  "kernelspec": {
   "display_name": "Python [conda env:fnds]",
   "language": "python",
   "name": "conda-env-fnds-py"
  },
  "language_info": {
   "codemirror_mode": {
    "name": "ipython",
    "version": 3
   },
   "file_extension": ".py",
   "mimetype": "text/x-python",
   "name": "python",
   "nbconvert_exporter": "python",
   "pygments_lexer": "ipython3",
   "version": "3.9.21"
  },
  "otter": {
   "OK_FORMAT": true,
   "assignment_name": "hw8",
   "tests": {
    "q3": {
     "name": "q3",
     "points": 10,
     "suites": [
      {
       "cases": [],
       "scored": true,
       "setup": "",
       "teardown": "",
       "type": "doctest"
      }
     ]
    }
   }
  }
 },
 "nbformat": 4,
 "nbformat_minor": 4
}
