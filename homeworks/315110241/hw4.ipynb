{
 "cells": [
  {
   "cell_type": "code",
   "execution_count": 40,
   "metadata": {
    "deletable": false,
    "editable": false
   },
   "outputs": [],
   "source": [
    "# Initialize Otter\n",
    "import otter\n",
    "grader = otter.Notebook(\"hw4.ipynb\")"
   ]
  },
  {
   "cell_type": "markdown",
   "metadata": {},
   "source": [
    "## Homework #4"
   ]
  },
  {
   "cell_type": "markdown",
   "metadata": {},
   "source": [
    "*Please edit the cell below to add your full name (first and last) and the full names of any group members that you collaborated with on this assignment.* "
   ]
  },
  {
   "cell_type": "markdown",
   "metadata": {},
   "source": [
    "Name:   Kaitlyn Huynh\n",
    "Group Members:   \n",
    "***"
   ]
  },
  {
   "cell_type": "code",
   "execution_count": 41,
   "metadata": {},
   "outputs": [],
   "source": [
    "# Set random seed and ensure plots are displayed in the notebook\n",
    "import numpy as np\n",
    "import arviz as az\n",
    "import pandas as pd\n",
    "import pymc as pm\n",
    "np.random.seed(5)\n",
    "\n",
    "%matplotlib inline\n",
    "\n",
    "%config Inline.figure_format = 'retina'\n",
    "az.rcParams[\"stats.hdi_prob\"] = 0.89  # sets default credible interval used by arviz"
   ]
  },
  {
   "cell_type": "code",
   "execution_count": 42,
   "metadata": {},
   "outputs": [],
   "source": [
    "# utility function for standardizing variables\n",
    "def standardize(series):\n",
    "    return (series - series.mean()) / series.std()"
   ]
  },
  {
   "cell_type": "markdown",
   "metadata": {
    "deletable": false,
    "editable": false
   },
   "source": [
    "<!-- BEGIN QUESTION -->\n",
    "\n",
    "**Question 1.** **(25 points)** In the Laffer data (*Data/Laffer.csv*, first introduced in the accompanying prediction tutorial), there is one country with a high tax revenue that is an outlier. \n",
    "\n",
    "In the tutorial, PSIS and WAIC were used to measure the importance of this outlier in the models that were fit. \n",
    "\n",
    "First, **re-create and run the models provided as part of the prediction tutorial**."
   ]
  },
  {
   "cell_type": "code",
   "execution_count": 43,
   "metadata": {
    "tags": []
   },
   "outputs": [
    {
     "name": "stderr",
     "output_type": "stream",
     "text": [
      "Auto-assigning NUTS sampler...\n",
      "Initializing NUTS using jitter+adapt_diag...\n",
      "Sequential sampling (2 chains in 1 job)\n",
      "NUTS: [a, b, sigma]\n"
     ]
    },
    {
     "data": {
      "text/html": [
       "\n",
       "<style>\n",
       "    /* Turns off some styling */\n",
       "    progress {\n",
       "        /* gets rid of default border in Firefox and Opera. */\n",
       "        border: none;\n",
       "        /* Needs to be in here for Safari polyfill so background images work as expected. */\n",
       "        background-size: auto;\n",
       "    }\n",
       "    progress:not([value]), progress:not([value])::-webkit-progress-bar {\n",
       "        background: repeating-linear-gradient(45deg, #7e7e7e, #7e7e7e 10px, #5c5c5c 10px, #5c5c5c 20px);\n",
       "    }\n",
       "    .progress-bar-interrupted, .progress-bar-interrupted::-webkit-progress-bar {\n",
       "        background: #F44336;\n",
       "    }\n",
       "</style>\n"
      ],
      "text/plain": [
       "<IPython.core.display.HTML object>"
      ]
     },
     "metadata": {},
     "output_type": "display_data"
    },
    {
     "data": {
      "text/html": [
       "\n",
       "    <div>\n",
       "      <progress value='2000' class='' max='2000' style='width:300px; height:20px; vertical-align: middle;'></progress>\n",
       "      100.00% [2000/2000 00:02&lt;00:00 Sampling chain 0, 0 divergences]\n",
       "    </div>\n",
       "    "
      ],
      "text/plain": [
       "<IPython.core.display.HTML object>"
      ]
     },
     "metadata": {},
     "output_type": "display_data"
    },
    {
     "data": {
      "text/html": [
       "\n",
       "<style>\n",
       "    /* Turns off some styling */\n",
       "    progress {\n",
       "        /* gets rid of default border in Firefox and Opera. */\n",
       "        border: none;\n",
       "        /* Needs to be in here for Safari polyfill so background images work as expected. */\n",
       "        background-size: auto;\n",
       "    }\n",
       "    progress:not([value]), progress:not([value])::-webkit-progress-bar {\n",
       "        background: repeating-linear-gradient(45deg, #7e7e7e, #7e7e7e 10px, #5c5c5c 10px, #5c5c5c 20px);\n",
       "    }\n",
       "    .progress-bar-interrupted, .progress-bar-interrupted::-webkit-progress-bar {\n",
       "        background: #F44336;\n",
       "    }\n",
       "</style>\n"
      ],
      "text/plain": [
       "<IPython.core.display.HTML object>"
      ]
     },
     "metadata": {},
     "output_type": "display_data"
    },
    {
     "data": {
      "text/html": [
       "\n",
       "    <div>\n",
       "      <progress value='2000' class='' max='2000' style='width:300px; height:20px; vertical-align: middle;'></progress>\n",
       "      100.00% [2000/2000 00:02&lt;00:00 Sampling chain 1, 0 divergences]\n",
       "    </div>\n",
       "    "
      ],
      "text/plain": [
       "<IPython.core.display.HTML object>"
      ]
     },
     "metadata": {},
     "output_type": "display_data"
    },
    {
     "name": "stderr",
     "output_type": "stream",
     "text": [
      "Sampling 2 chains for 1_000 tune and 1_000 draw iterations (2_000 + 2_000 draws total) took 5 seconds.\n",
      "We recommend running at least 4 chains for robust computation of convergence diagnostics\n",
      "Auto-assigning NUTS sampler...\n",
      "Initializing NUTS using jitter+adapt_diag...\n",
      "Sequential sampling (2 chains in 1 job)\n",
      "NUTS: [a, b, b2, sigma]\n"
     ]
    },
    {
     "data": {
      "text/html": [
       "\n",
       "<style>\n",
       "    /* Turns off some styling */\n",
       "    progress {\n",
       "        /* gets rid of default border in Firefox and Opera. */\n",
       "        border: none;\n",
       "        /* Needs to be in here for Safari polyfill so background images work as expected. */\n",
       "        background-size: auto;\n",
       "    }\n",
       "    progress:not([value]), progress:not([value])::-webkit-progress-bar {\n",
       "        background: repeating-linear-gradient(45deg, #7e7e7e, #7e7e7e 10px, #5c5c5c 10px, #5c5c5c 20px);\n",
       "    }\n",
       "    .progress-bar-interrupted, .progress-bar-interrupted::-webkit-progress-bar {\n",
       "        background: #F44336;\n",
       "    }\n",
       "</style>\n"
      ],
      "text/plain": [
       "<IPython.core.display.HTML object>"
      ]
     },
     "metadata": {},
     "output_type": "display_data"
    },
    {
     "data": {
      "text/html": [
       "\n",
       "    <div>\n",
       "      <progress value='2000' class='' max='2000' style='width:300px; height:20px; vertical-align: middle;'></progress>\n",
       "      100.00% [2000/2000 00:03&lt;00:00 Sampling chain 0, 0 divergences]\n",
       "    </div>\n",
       "    "
      ],
      "text/plain": [
       "<IPython.core.display.HTML object>"
      ]
     },
     "metadata": {},
     "output_type": "display_data"
    },
    {
     "data": {
      "text/html": [
       "\n",
       "<style>\n",
       "    /* Turns off some styling */\n",
       "    progress {\n",
       "        /* gets rid of default border in Firefox and Opera. */\n",
       "        border: none;\n",
       "        /* Needs to be in here for Safari polyfill so background images work as expected. */\n",
       "        background-size: auto;\n",
       "    }\n",
       "    progress:not([value]), progress:not([value])::-webkit-progress-bar {\n",
       "        background: repeating-linear-gradient(45deg, #7e7e7e, #7e7e7e 10px, #5c5c5c 10px, #5c5c5c 20px);\n",
       "    }\n",
       "    .progress-bar-interrupted, .progress-bar-interrupted::-webkit-progress-bar {\n",
       "        background: #F44336;\n",
       "    }\n",
       "</style>\n"
      ],
      "text/plain": [
       "<IPython.core.display.HTML object>"
      ]
     },
     "metadata": {},
     "output_type": "display_data"
    },
    {
     "data": {
      "text/html": [
       "\n",
       "    <div>\n",
       "      <progress value='2000' class='' max='2000' style='width:300px; height:20px; vertical-align: middle;'></progress>\n",
       "      100.00% [2000/2000 00:03&lt;00:00 Sampling chain 1, 0 divergences]\n",
       "    </div>\n",
       "    "
      ],
      "text/plain": [
       "<IPython.core.display.HTML object>"
      ]
     },
     "metadata": {},
     "output_type": "display_data"
    },
    {
     "name": "stderr",
     "output_type": "stream",
     "text": [
      "Sampling 2 chains for 1_000 tune and 1_000 draw iterations (2_000 + 2_000 draws total) took 7 seconds.\n",
      "We recommend running at least 4 chains for robust computation of convergence diagnostics\n"
     ]
    }
   ],
   "source": [
    "df = pd.read_csv(\"Data/Laffer.csv\", delimiter=\",\")\n",
    "\n",
    "df = pd.read_csv(\"Data/Laffer.csv\", header=0)\n",
    "# standardizing tax rate and tax revenue\n",
    "tax_rate_std = standardize(df.tax_rate)\n",
    "tax_revenue_std = standardize(df.tax_revenue)\n",
    "\n",
    "# first-order linear model\n",
    "with pm.Model() as m_ex4_lin:\n",
    "    \n",
    "    # prior on intercept for expected tax revenue: mean = 0, std = 0.2\n",
    "    a = pm.Normal(\"a\", 0, 0.2)\n",
    "    \n",
    "    # prior on coefficient for tax rate: mean=0, std=0.5\n",
    "    b = pm.Normal(\"b\", 0, 0.5)\n",
    "    \n",
    "    # expected tax revenue (using linear model)\n",
    "    mu = pm.Deterministic(\"mu\", a + b * tax_rate_std)\n",
    "    \n",
    "    # standard deviation for tax revenue\n",
    "    sigma = pm.Exponential(\"sigma\", 1)\n",
    "    \n",
    "    # data distribution for tax revenue\n",
    "    R = pm.Normal(\"tax_revenue\", mu, sigma, observed=tax_revenue_std)\n",
    "    \n",
    "    # using Hamiltonian Monte Carlo MCMC\n",
    "    idata_ex4_lin = pm.sample(idata_kwargs={\"log_likelihood\": True})\n",
    "# quadratic model\n",
    "with pm.Model() as m_ex4_quad:\n",
    "    # prior on intercept for expected tax revenue: mean = 0, std = 0.2\n",
    "    a = pm.Normal(\"a\", 0, 0.2)\n",
    "    \n",
    "    # prior on coefficient for tax rate: mean=0, std=0.5\n",
    "    b = pm.Normal(\"b\", 0, 0.5)\n",
    "    \n",
    "    # prior on coefficient for tax rate^2: mean=0, std=0.5\n",
    "    b2 = pm.Normal(\"b2\", 0, 0.5)\n",
    "    \n",
    "    # expected tax revenue (using polynomial model)\n",
    "    mu = pm.Deterministic(\"mu\", a + b * tax_rate_std + b2 * tax_rate_std**2)\n",
    "    \n",
    "    # standard deviation for tax revenue\n",
    "    sigma = pm.Exponential(\"sigma\", 1)\n",
    "    \n",
    "    # data distribution for tax revenue\n",
    "    R = pm.Normal(\"tax_revenue\", mu, sigma, observed=tax_revenue_std)\n",
    "    \n",
    "    # using Hamiltonian Monte Carlo MCMC\n",
    "    idata_ex4_quad = pm.sample(idata_kwargs={\"log_likelihood\": True})"
   ]
  },
  {
   "cell_type": "markdown",
   "metadata": {
    "deletable": false,
    "editable": false
   },
   "source": [
    "Create a new **cubic** (3rd-degree polynomial) version of the model."
   ]
  },
  {
   "cell_type": "code",
   "execution_count": 44,
   "metadata": {
    "tags": []
   },
   "outputs": [
    {
     "name": "stderr",
     "output_type": "stream",
     "text": [
      "Auto-assigning NUTS sampler...\n",
      "Initializing NUTS using jitter+adapt_diag...\n",
      "Sequential sampling (2 chains in 1 job)\n",
      "NUTS: [a, b, b2, b3, sigma]\n"
     ]
    },
    {
     "data": {
      "text/html": [
       "\n",
       "<style>\n",
       "    /* Turns off some styling */\n",
       "    progress {\n",
       "        /* gets rid of default border in Firefox and Opera. */\n",
       "        border: none;\n",
       "        /* Needs to be in here for Safari polyfill so background images work as expected. */\n",
       "        background-size: auto;\n",
       "    }\n",
       "    progress:not([value]), progress:not([value])::-webkit-progress-bar {\n",
       "        background: repeating-linear-gradient(45deg, #7e7e7e, #7e7e7e 10px, #5c5c5c 10px, #5c5c5c 20px);\n",
       "    }\n",
       "    .progress-bar-interrupted, .progress-bar-interrupted::-webkit-progress-bar {\n",
       "        background: #F44336;\n",
       "    }\n",
       "</style>\n"
      ],
      "text/plain": [
       "<IPython.core.display.HTML object>"
      ]
     },
     "metadata": {},
     "output_type": "display_data"
    },
    {
     "data": {
      "text/html": [
       "\n",
       "    <div>\n",
       "      <progress value='2000' class='' max='2000' style='width:300px; height:20px; vertical-align: middle;'></progress>\n",
       "      100.00% [2000/2000 00:06&lt;00:00 Sampling chain 0, 0 divergences]\n",
       "    </div>\n",
       "    "
      ],
      "text/plain": [
       "<IPython.core.display.HTML object>"
      ]
     },
     "metadata": {},
     "output_type": "display_data"
    },
    {
     "data": {
      "text/html": [
       "\n",
       "<style>\n",
       "    /* Turns off some styling */\n",
       "    progress {\n",
       "        /* gets rid of default border in Firefox and Opera. */\n",
       "        border: none;\n",
       "        /* Needs to be in here for Safari polyfill so background images work as expected. */\n",
       "        background-size: auto;\n",
       "    }\n",
       "    progress:not([value]), progress:not([value])::-webkit-progress-bar {\n",
       "        background: repeating-linear-gradient(45deg, #7e7e7e, #7e7e7e 10px, #5c5c5c 10px, #5c5c5c 20px);\n",
       "    }\n",
       "    .progress-bar-interrupted, .progress-bar-interrupted::-webkit-progress-bar {\n",
       "        background: #F44336;\n",
       "    }\n",
       "</style>\n"
      ],
      "text/plain": [
       "<IPython.core.display.HTML object>"
      ]
     },
     "metadata": {},
     "output_type": "display_data"
    },
    {
     "data": {
      "text/html": [
       "\n",
       "    <div>\n",
       "      <progress value='2000' class='' max='2000' style='width:300px; height:20px; vertical-align: middle;'></progress>\n",
       "      100.00% [2000/2000 00:07&lt;00:00 Sampling chain 1, 0 divergences]\n",
       "    </div>\n",
       "    "
      ],
      "text/plain": [
       "<IPython.core.display.HTML object>"
      ]
     },
     "metadata": {},
     "output_type": "display_data"
    },
    {
     "name": "stderr",
     "output_type": "stream",
     "text": [
      "Sampling 2 chains for 1_000 tune and 1_000 draw iterations (2_000 + 2_000 draws total) took 15 seconds.\n",
      "We recommend running at least 4 chains for robust computation of convergence diagnostics\n"
     ]
    }
   ],
   "source": [
    "# cubic model\n",
    "with pm.Model() as m_ex4_cubic:\n",
    "    # prior on intercept for expected tax revenue: mean = 0, std = 0.2\n",
    "    a = pm.Normal(\"a\", 0, 0.2)\n",
    "    \n",
    "    # prior on coefficient for tax rate: mean=0, std=0.5\n",
    "    b = pm.Normal(\"b\", 0, 0.5)\n",
    "    \n",
    "    # prior on coefficient for tax rate^2: mean=0, std=0.5\n",
    "    b2 = pm.Normal(\"b2\", 0, 0.5)\n",
    "\n",
    "    # prior on coefficient for tax rate^2: mean=0, std=0.5\n",
    "    b3 = pm.Normal(\"b3\", 0, 0.5)\n",
    "    \n",
    "    # expected tax revenue (using polynomial model)\n",
    "    mu = pm.Deterministic(\"mu\", a + b * tax_rate_std + b2 * tax_rate_std**2 + b3 * tax_rate_std**3)\n",
    "    \n",
    "    # standard deviation for tax revenue\n",
    "    sigma = pm.Exponential(\"sigma\", 1)\n",
    "    \n",
    "    # data distribution for tax revenue\n",
    "    R = pm.Normal(\"tax_revenue\", mu, sigma, observed=tax_revenue_std)\n",
    "    \n",
    "    # using Hamiltonian Monte Carlo MCMC\n",
    "    idata_ex4_cubic = pm.sample(idata_kwargs={\"log_likelihood\": True})"
   ]
  },
  {
   "cell_type": "markdown",
   "metadata": {
    "deletable": false,
    "editable": false
   },
   "source": [
    "Create a new (first-order) **linear** version of the model using robust regression with a Student’s t distribution for the data distribution. Use $\\nu=2$ for your Student's t distribution. "
   ]
  },
  {
   "cell_type": "code",
   "execution_count": 45,
   "metadata": {
    "tags": []
   },
   "outputs": [
    {
     "name": "stderr",
     "output_type": "stream",
     "text": [
      "Auto-assigning NUTS sampler...\n",
      "Initializing NUTS using jitter+adapt_diag...\n",
      "Sequential sampling (2 chains in 1 job)\n",
      "NUTS: [a, b, sigma]\n"
     ]
    },
    {
     "data": {
      "text/html": [
       "\n",
       "<style>\n",
       "    /* Turns off some styling */\n",
       "    progress {\n",
       "        /* gets rid of default border in Firefox and Opera. */\n",
       "        border: none;\n",
       "        /* Needs to be in here for Safari polyfill so background images work as expected. */\n",
       "        background-size: auto;\n",
       "    }\n",
       "    progress:not([value]), progress:not([value])::-webkit-progress-bar {\n",
       "        background: repeating-linear-gradient(45deg, #7e7e7e, #7e7e7e 10px, #5c5c5c 10px, #5c5c5c 20px);\n",
       "    }\n",
       "    .progress-bar-interrupted, .progress-bar-interrupted::-webkit-progress-bar {\n",
       "        background: #F44336;\n",
       "    }\n",
       "</style>\n"
      ],
      "text/plain": [
       "<IPython.core.display.HTML object>"
      ]
     },
     "metadata": {},
     "output_type": "display_data"
    },
    {
     "data": {
      "text/html": [
       "\n",
       "    <div>\n",
       "      <progress value='2000' class='' max='2000' style='width:300px; height:20px; vertical-align: middle;'></progress>\n",
       "      100.00% [2000/2000 00:02&lt;00:00 Sampling chain 0, 0 divergences]\n",
       "    </div>\n",
       "    "
      ],
      "text/plain": [
       "<IPython.core.display.HTML object>"
      ]
     },
     "metadata": {},
     "output_type": "display_data"
    },
    {
     "data": {
      "text/html": [
       "\n",
       "<style>\n",
       "    /* Turns off some styling */\n",
       "    progress {\n",
       "        /* gets rid of default border in Firefox and Opera. */\n",
       "        border: none;\n",
       "        /* Needs to be in here for Safari polyfill so background images work as expected. */\n",
       "        background-size: auto;\n",
       "    }\n",
       "    progress:not([value]), progress:not([value])::-webkit-progress-bar {\n",
       "        background: repeating-linear-gradient(45deg, #7e7e7e, #7e7e7e 10px, #5c5c5c 10px, #5c5c5c 20px);\n",
       "    }\n",
       "    .progress-bar-interrupted, .progress-bar-interrupted::-webkit-progress-bar {\n",
       "        background: #F44336;\n",
       "    }\n",
       "</style>\n"
      ],
      "text/plain": [
       "<IPython.core.display.HTML object>"
      ]
     },
     "metadata": {},
     "output_type": "display_data"
    },
    {
     "data": {
      "text/html": [
       "\n",
       "    <div>\n",
       "      <progress value='2000' class='' max='2000' style='width:300px; height:20px; vertical-align: middle;'></progress>\n",
       "      100.00% [2000/2000 00:02&lt;00:00 Sampling chain 1, 0 divergences]\n",
       "    </div>\n",
       "    "
      ],
      "text/plain": [
       "<IPython.core.display.HTML object>"
      ]
     },
     "metadata": {},
     "output_type": "display_data"
    },
    {
     "name": "stderr",
     "output_type": "stream",
     "text": [
      "Sampling 2 chains for 1_000 tune and 1_000 draw iterations (2_000 + 2_000 draws total) took 5 seconds.\n",
      "We recommend running at least 4 chains for robust computation of convergence diagnostics\n",
      "/opt/conda/envs/fnds/lib/python3.9/site-packages/arviz/stats/stats.py:789: UserWarning: Estimated shape parameter of Pareto distribution is greater than 0.7 for one or more samples. You should consider using a more robust model, this is because importance sampling is less likely to work well if the marginal posterior and LOO posterior are very different. This is more likely to happen with a non-robust model and highly influential observations.\n",
      "  warnings.warn(\n",
      "/opt/conda/envs/fnds/lib/python3.9/site-packages/arviz/stats/stats.py:789: UserWarning: Estimated shape parameter of Pareto distribution is greater than 0.7 for one or more samples. You should consider using a more robust model, this is because importance sampling is less likely to work well if the marginal posterior and LOO posterior are very different. This is more likely to happen with a non-robust model and highly influential observations.\n",
      "  warnings.warn(\n",
      "/opt/conda/envs/fnds/lib/python3.9/site-packages/arviz/stats/stats.py:789: UserWarning: Estimated shape parameter of Pareto distribution is greater than 0.7 for one or more samples. You should consider using a more robust model, this is because importance sampling is less likely to work well if the marginal posterior and LOO posterior are very different. This is more likely to happen with a non-robust model and highly influential observations.\n",
      "  warnings.warn(\n"
     ]
    }
   ],
   "source": [
    "# first-order linear model using robust regression with a Student’s t distribution for the data distribution\n",
    "with pm.Model() as m_ex4_lin_robust:\n",
    "    # Prior on intercept for expected tax revenue: mean = 0, std = 0.2\n",
    "    a = pm.Normal(\"a\", 0, 0.2)\n",
    "    \n",
    "    # Prior on coefficient for tax rate: mean=0, std=0.5\n",
    "    b = pm.Normal(\"b\", 0, 0.5)\n",
    "    \n",
    "    # Expected tax revenue (using linear model)\n",
    "    mu = pm.Deterministic(\"mu\", a + b * tax_rate_std)\n",
    "    \n",
    "    # Standard deviation for tax revenue\n",
    "    sigma = pm.Exponential(\"sigma\", 1)\n",
    "    \n",
    "    # Degrees of freedom\n",
    "    nu = 2  \n",
    "    R = pm.StudentT(\"tax_revenue\", nu=nu, mu=mu, sigma=sigma, observed=tax_revenue_std)\n",
    "    \n",
    "    # using Hamiltonian Monte Carlo MCMC\n",
    "    idata_ex4_lin_robust = pm.sample(idata_kwargs={\"log_likelihood\": True})\n",
    "\n",
    "# Set up the PSIS comparison\n",
    "model_dict = {\n",
    "    \"m_ex4_lin\": idata_ex4_lin,\n",
    "    \"m_ex4_quad\": idata_ex4_quad,\n",
    "    \"m_ex4_cubic\": idata_ex4_cubic,\n",
    "    \"m_ex4_lin_robust\": idata_ex4_lin_robust\n",
    "}\n",
    "# Execute the PSIS comparison\n",
    "compare_df_psis = az.compare(\n",
    "    compare_dict=model_dict,\n",
    "    ic=\"loo\",\n",
    "    scale=\"deviance\"\n",
    ")\n"
   ]
  },
  {
   "cell_type": "markdown",
   "metadata": {
    "deletable": false,
    "editable": false
   },
   "source": [
    "Of the 4 models, which one has the best predictive performance according to PSIS? **Limit your response to no more than 2 sentences.**"
   ]
  },
  {
   "cell_type": "markdown",
   "metadata": {},
   "source": [
    "The linear version using robust regression has the highest rank (0) out of the 4 models. The value for elpd_loo is ~73.84 which indicates a better predictive performance compared to ~86 for the others, it generalizes data better."
   ]
  },
  {
   "cell_type": "markdown",
   "metadata": {
    "deletable": false,
    "editable": false
   },
   "source": [
    "<!-- END QUESTION -->\n",
    "\n",
    "<!-- BEGIN QUESTION -->\n",
    "\n",
    "Based on these results, what impact does the outlier point appear to be having on the curved relationship between tax rate and tax revenue? **Limit your response to no more than 5 sentences.**\n",
    "\n",
    "__Note__: *You will need to quantify the influence of the outlier data point in your predictive models and comment on this influence in order to receive full credit.*"
   ]
  },
  {
   "cell_type": "code",
   "execution_count": 46,
   "metadata": {
    "tags": []
   },
   "outputs": [
    {
     "name": "stdout",
     "output_type": "stream",
     "text": [
      "                  rank   elpd_loo     p_loo  elpd_diff        weight  \\\n",
      "m_ex4_lin_robust     0  73.664599  3.123187   0.000000  7.789287e-01   \n",
      "m_ex4_quad           1  85.623707  5.161043  11.959108  2.210713e-01   \n",
      "m_ex4_lin            2  87.286892  5.070848  13.622293  4.906627e-16   \n",
      "m_ex4_cubic          3  87.353628  5.968676  13.689029  0.000000e+00   \n",
      "\n",
      "                         se        dse  warning     scale  \n",
      "m_ex4_lin_robust  12.261320   0.000000    False  deviance  \n",
      "m_ex4_quad        19.265196  11.671712     True  deviance  \n",
      "m_ex4_lin         18.992424  11.326380     True  deviance  \n",
      "m_ex4_cubic       19.592405  11.809895     True  deviance  \n"
     ]
    }
   ],
   "source": [
    "print(compare_df_psis)"
   ]
  },
  {
   "cell_type": "markdown",
   "metadata": {},
   "source": [
    "For the quadratic linear (non-robust), and cubic models, the elpd_loo value is ~86 while the linear (robust) has an elpd_loo value of ~73.84. The linear robust model is influenced less by the outlier value in our data, making it a better fitting model. The others elpd_loo values indicate overfitting at a value of ~86, in addition to their se values being ~18 or 19, which is higher than the se value for linear (robust) se at a value of ~12.28."
   ]
  },
  {
   "cell_type": "markdown",
   "metadata": {
    "deletable": false,
    "editable": false
   },
   "source": [
    "<!-- END QUESTION -->\n",
    "\n",
    "<!-- BEGIN QUESTION -->\n",
    "\n",
    "**Question 2**. **(15 points)** Reconsider the urban fox analysis (*Data/foxes.csv*) from the previous homework assignment (HW 3). \n",
    "\n",
    "On the basis of PSIS and WAIC scores, which combination of variables best predicts body weight ($W$, `weight`)? **Limit your response to no more than 3 sentences.** \n",
    "\n",
    "**Note**: *For this exercise, you will end up creating 7 models.*"
   ]
  },
  {
   "cell_type": "code",
   "execution_count": 47,
   "metadata": {
    "tags": []
   },
   "outputs": [
    {
     "name": "stderr",
     "output_type": "stream",
     "text": [
      "Auto-assigning NUTS sampler...\n",
      "Initializing NUTS using jitter+adapt_diag...\n",
      "Sequential sampling (2 chains in 1 job)\n",
      "NUTS: [a, b_a, sigma]\n"
     ]
    },
    {
     "data": {
      "text/html": [
       "\n",
       "<style>\n",
       "    /* Turns off some styling */\n",
       "    progress {\n",
       "        /* gets rid of default border in Firefox and Opera. */\n",
       "        border: none;\n",
       "        /* Needs to be in here for Safari polyfill so background images work as expected. */\n",
       "        background-size: auto;\n",
       "    }\n",
       "    progress:not([value]), progress:not([value])::-webkit-progress-bar {\n",
       "        background: repeating-linear-gradient(45deg, #7e7e7e, #7e7e7e 10px, #5c5c5c 10px, #5c5c5c 20px);\n",
       "    }\n",
       "    .progress-bar-interrupted, .progress-bar-interrupted::-webkit-progress-bar {\n",
       "        background: #F44336;\n",
       "    }\n",
       "</style>\n"
      ],
      "text/plain": [
       "<IPython.core.display.HTML object>"
      ]
     },
     "metadata": {},
     "output_type": "display_data"
    },
    {
     "data": {
      "text/html": [
       "\n",
       "    <div>\n",
       "      <progress value='2000' class='' max='2000' style='width:300px; height:20px; vertical-align: middle;'></progress>\n",
       "      100.00% [2000/2000 00:02&lt;00:00 Sampling chain 0, 0 divergences]\n",
       "    </div>\n",
       "    "
      ],
      "text/plain": [
       "<IPython.core.display.HTML object>"
      ]
     },
     "metadata": {},
     "output_type": "display_data"
    },
    {
     "data": {
      "text/html": [
       "\n",
       "<style>\n",
       "    /* Turns off some styling */\n",
       "    progress {\n",
       "        /* gets rid of default border in Firefox and Opera. */\n",
       "        border: none;\n",
       "        /* Needs to be in here for Safari polyfill so background images work as expected. */\n",
       "        background-size: auto;\n",
       "    }\n",
       "    progress:not([value]), progress:not([value])::-webkit-progress-bar {\n",
       "        background: repeating-linear-gradient(45deg, #7e7e7e, #7e7e7e 10px, #5c5c5c 10px, #5c5c5c 20px);\n",
       "    }\n",
       "    .progress-bar-interrupted, .progress-bar-interrupted::-webkit-progress-bar {\n",
       "        background: #F44336;\n",
       "    }\n",
       "</style>\n"
      ],
      "text/plain": [
       "<IPython.core.display.HTML object>"
      ]
     },
     "metadata": {},
     "output_type": "display_data"
    },
    {
     "data": {
      "text/html": [
       "\n",
       "    <div>\n",
       "      <progress value='2000' class='' max='2000' style='width:300px; height:20px; vertical-align: middle;'></progress>\n",
       "      100.00% [2000/2000 00:02&lt;00:00 Sampling chain 1, 0 divergences]\n",
       "    </div>\n",
       "    "
      ],
      "text/plain": [
       "<IPython.core.display.HTML object>"
      ]
     },
     "metadata": {},
     "output_type": "display_data"
    },
    {
     "name": "stderr",
     "output_type": "stream",
     "text": [
      "Sampling 2 chains for 1_000 tune and 1_000 draw iterations (2_000 + 2_000 draws total) took 4 seconds.\n",
      "We recommend running at least 4 chains for robust computation of convergence diagnostics\n",
      "Auto-assigning NUTS sampler...\n",
      "Initializing NUTS using jitter+adapt_diag...\n",
      "Sequential sampling (2 chains in 1 job)\n",
      "NUTS: [a, b_f, sigma]\n"
     ]
    },
    {
     "data": {
      "text/html": [
       "\n",
       "<style>\n",
       "    /* Turns off some styling */\n",
       "    progress {\n",
       "        /* gets rid of default border in Firefox and Opera. */\n",
       "        border: none;\n",
       "        /* Needs to be in here for Safari polyfill so background images work as expected. */\n",
       "        background-size: auto;\n",
       "    }\n",
       "    progress:not([value]), progress:not([value])::-webkit-progress-bar {\n",
       "        background: repeating-linear-gradient(45deg, #7e7e7e, #7e7e7e 10px, #5c5c5c 10px, #5c5c5c 20px);\n",
       "    }\n",
       "    .progress-bar-interrupted, .progress-bar-interrupted::-webkit-progress-bar {\n",
       "        background: #F44336;\n",
       "    }\n",
       "</style>\n"
      ],
      "text/plain": [
       "<IPython.core.display.HTML object>"
      ]
     },
     "metadata": {},
     "output_type": "display_data"
    },
    {
     "data": {
      "text/html": [
       "\n",
       "    <div>\n",
       "      <progress value='2000' class='' max='2000' style='width:300px; height:20px; vertical-align: middle;'></progress>\n",
       "      100.00% [2000/2000 00:02&lt;00:00 Sampling chain 0, 0 divergences]\n",
       "    </div>\n",
       "    "
      ],
      "text/plain": [
       "<IPython.core.display.HTML object>"
      ]
     },
     "metadata": {},
     "output_type": "display_data"
    },
    {
     "data": {
      "text/html": [
       "\n",
       "<style>\n",
       "    /* Turns off some styling */\n",
       "    progress {\n",
       "        /* gets rid of default border in Firefox and Opera. */\n",
       "        border: none;\n",
       "        /* Needs to be in here for Safari polyfill so background images work as expected. */\n",
       "        background-size: auto;\n",
       "    }\n",
       "    progress:not([value]), progress:not([value])::-webkit-progress-bar {\n",
       "        background: repeating-linear-gradient(45deg, #7e7e7e, #7e7e7e 10px, #5c5c5c 10px, #5c5c5c 20px);\n",
       "    }\n",
       "    .progress-bar-interrupted, .progress-bar-interrupted::-webkit-progress-bar {\n",
       "        background: #F44336;\n",
       "    }\n",
       "</style>\n"
      ],
      "text/plain": [
       "<IPython.core.display.HTML object>"
      ]
     },
     "metadata": {},
     "output_type": "display_data"
    },
    {
     "data": {
      "text/html": [
       "\n",
       "    <div>\n",
       "      <progress value='2000' class='' max='2000' style='width:300px; height:20px; vertical-align: middle;'></progress>\n",
       "      100.00% [2000/2000 00:02&lt;00:00 Sampling chain 1, 0 divergences]\n",
       "    </div>\n",
       "    "
      ],
      "text/plain": [
       "<IPython.core.display.HTML object>"
      ]
     },
     "metadata": {},
     "output_type": "display_data"
    },
    {
     "name": "stderr",
     "output_type": "stream",
     "text": [
      "Sampling 2 chains for 1_000 tune and 1_000 draw iterations (2_000 + 2_000 draws total) took 4 seconds.\n",
      "We recommend running at least 4 chains for robust computation of convergence diagnostics\n",
      "Auto-assigning NUTS sampler...\n",
      "Initializing NUTS using jitter+adapt_diag...\n",
      "Sequential sampling (2 chains in 1 job)\n",
      "NUTS: [a, b_gs, sigma]\n"
     ]
    },
    {
     "data": {
      "text/html": [
       "\n",
       "<style>\n",
       "    /* Turns off some styling */\n",
       "    progress {\n",
       "        /* gets rid of default border in Firefox and Opera. */\n",
       "        border: none;\n",
       "        /* Needs to be in here for Safari polyfill so background images work as expected. */\n",
       "        background-size: auto;\n",
       "    }\n",
       "    progress:not([value]), progress:not([value])::-webkit-progress-bar {\n",
       "        background: repeating-linear-gradient(45deg, #7e7e7e, #7e7e7e 10px, #5c5c5c 10px, #5c5c5c 20px);\n",
       "    }\n",
       "    .progress-bar-interrupted, .progress-bar-interrupted::-webkit-progress-bar {\n",
       "        background: #F44336;\n",
       "    }\n",
       "</style>\n"
      ],
      "text/plain": [
       "<IPython.core.display.HTML object>"
      ]
     },
     "metadata": {},
     "output_type": "display_data"
    },
    {
     "data": {
      "text/html": [
       "\n",
       "    <div>\n",
       "      <progress value='2000' class='' max='2000' style='width:300px; height:20px; vertical-align: middle;'></progress>\n",
       "      100.00% [2000/2000 00:02&lt;00:00 Sampling chain 0, 0 divergences]\n",
       "    </div>\n",
       "    "
      ],
      "text/plain": [
       "<IPython.core.display.HTML object>"
      ]
     },
     "metadata": {},
     "output_type": "display_data"
    },
    {
     "data": {
      "text/html": [
       "\n",
       "<style>\n",
       "    /* Turns off some styling */\n",
       "    progress {\n",
       "        /* gets rid of default border in Firefox and Opera. */\n",
       "        border: none;\n",
       "        /* Needs to be in here for Safari polyfill so background images work as expected. */\n",
       "        background-size: auto;\n",
       "    }\n",
       "    progress:not([value]), progress:not([value])::-webkit-progress-bar {\n",
       "        background: repeating-linear-gradient(45deg, #7e7e7e, #7e7e7e 10px, #5c5c5c 10px, #5c5c5c 20px);\n",
       "    }\n",
       "    .progress-bar-interrupted, .progress-bar-interrupted::-webkit-progress-bar {\n",
       "        background: #F44336;\n",
       "    }\n",
       "</style>\n"
      ],
      "text/plain": [
       "<IPython.core.display.HTML object>"
      ]
     },
     "metadata": {},
     "output_type": "display_data"
    },
    {
     "data": {
      "text/html": [
       "\n",
       "    <div>\n",
       "      <progress value='2000' class='' max='2000' style='width:300px; height:20px; vertical-align: middle;'></progress>\n",
       "      100.00% [2000/2000 00:01&lt;00:00 Sampling chain 1, 0 divergences]\n",
       "    </div>\n",
       "    "
      ],
      "text/plain": [
       "<IPython.core.display.HTML object>"
      ]
     },
     "metadata": {},
     "output_type": "display_data"
    },
    {
     "name": "stderr",
     "output_type": "stream",
     "text": [
      "Sampling 2 chains for 1_000 tune and 1_000 draw iterations (2_000 + 2_000 draws total) took 4 seconds.\n",
      "We recommend running at least 4 chains for robust computation of convergence diagnostics\n",
      "Auto-assigning NUTS sampler...\n",
      "Initializing NUTS using jitter+adapt_diag...\n",
      "Sequential sampling (2 chains in 1 job)\n",
      "NUTS: [a, b_gs, b_a, sigma]\n"
     ]
    },
    {
     "data": {
      "text/html": [
       "\n",
       "<style>\n",
       "    /* Turns off some styling */\n",
       "    progress {\n",
       "        /* gets rid of default border in Firefox and Opera. */\n",
       "        border: none;\n",
       "        /* Needs to be in here for Safari polyfill so background images work as expected. */\n",
       "        background-size: auto;\n",
       "    }\n",
       "    progress:not([value]), progress:not([value])::-webkit-progress-bar {\n",
       "        background: repeating-linear-gradient(45deg, #7e7e7e, #7e7e7e 10px, #5c5c5c 10px, #5c5c5c 20px);\n",
       "    }\n",
       "    .progress-bar-interrupted, .progress-bar-interrupted::-webkit-progress-bar {\n",
       "        background: #F44336;\n",
       "    }\n",
       "</style>\n"
      ],
      "text/plain": [
       "<IPython.core.display.HTML object>"
      ]
     },
     "metadata": {},
     "output_type": "display_data"
    },
    {
     "data": {
      "text/html": [
       "\n",
       "    <div>\n",
       "      <progress value='2000' class='' max='2000' style='width:300px; height:20px; vertical-align: middle;'></progress>\n",
       "      100.00% [2000/2000 00:03&lt;00:00 Sampling chain 0, 0 divergences]\n",
       "    </div>\n",
       "    "
      ],
      "text/plain": [
       "<IPython.core.display.HTML object>"
      ]
     },
     "metadata": {},
     "output_type": "display_data"
    },
    {
     "data": {
      "text/html": [
       "\n",
       "<style>\n",
       "    /* Turns off some styling */\n",
       "    progress {\n",
       "        /* gets rid of default border in Firefox and Opera. */\n",
       "        border: none;\n",
       "        /* Needs to be in here for Safari polyfill so background images work as expected. */\n",
       "        background-size: auto;\n",
       "    }\n",
       "    progress:not([value]), progress:not([value])::-webkit-progress-bar {\n",
       "        background: repeating-linear-gradient(45deg, #7e7e7e, #7e7e7e 10px, #5c5c5c 10px, #5c5c5c 20px);\n",
       "    }\n",
       "    .progress-bar-interrupted, .progress-bar-interrupted::-webkit-progress-bar {\n",
       "        background: #F44336;\n",
       "    }\n",
       "</style>\n"
      ],
      "text/plain": [
       "<IPython.core.display.HTML object>"
      ]
     },
     "metadata": {},
     "output_type": "display_data"
    },
    {
     "data": {
      "text/html": [
       "\n",
       "    <div>\n",
       "      <progress value='2000' class='' max='2000' style='width:300px; height:20px; vertical-align: middle;'></progress>\n",
       "      100.00% [2000/2000 00:03&lt;00:00 Sampling chain 1, 0 divergences]\n",
       "    </div>\n",
       "    "
      ],
      "text/plain": [
       "<IPython.core.display.HTML object>"
      ]
     },
     "metadata": {},
     "output_type": "display_data"
    },
    {
     "name": "stderr",
     "output_type": "stream",
     "text": [
      "Sampling 2 chains for 1_000 tune and 1_000 draw iterations (2_000 + 2_000 draws total) took 7 seconds.\n",
      "We recommend running at least 4 chains for robust computation of convergence diagnostics\n",
      "Auto-assigning NUTS sampler...\n",
      "Initializing NUTS using jitter+adapt_diag...\n",
      "Sequential sampling (2 chains in 1 job)\n",
      "NUTS: [a, b_a, b_f, b_gs, sigma]\n"
     ]
    },
    {
     "data": {
      "text/html": [
       "\n",
       "<style>\n",
       "    /* Turns off some styling */\n",
       "    progress {\n",
       "        /* gets rid of default border in Firefox and Opera. */\n",
       "        border: none;\n",
       "        /* Needs to be in here for Safari polyfill so background images work as expected. */\n",
       "        background-size: auto;\n",
       "    }\n",
       "    progress:not([value]), progress:not([value])::-webkit-progress-bar {\n",
       "        background: repeating-linear-gradient(45deg, #7e7e7e, #7e7e7e 10px, #5c5c5c 10px, #5c5c5c 20px);\n",
       "    }\n",
       "    .progress-bar-interrupted, .progress-bar-interrupted::-webkit-progress-bar {\n",
       "        background: #F44336;\n",
       "    }\n",
       "</style>\n"
      ],
      "text/plain": [
       "<IPython.core.display.HTML object>"
      ]
     },
     "metadata": {},
     "output_type": "display_data"
    },
    {
     "data": {
      "text/html": [
       "\n",
       "    <div>\n",
       "      <progress value='2000' class='' max='2000' style='width:300px; height:20px; vertical-align: middle;'></progress>\n",
       "      100.00% [2000/2000 00:05&lt;00:00 Sampling chain 0, 0 divergences]\n",
       "    </div>\n",
       "    "
      ],
      "text/plain": [
       "<IPython.core.display.HTML object>"
      ]
     },
     "metadata": {},
     "output_type": "display_data"
    },
    {
     "data": {
      "text/html": [
       "\n",
       "<style>\n",
       "    /* Turns off some styling */\n",
       "    progress {\n",
       "        /* gets rid of default border in Firefox and Opera. */\n",
       "        border: none;\n",
       "        /* Needs to be in here for Safari polyfill so background images work as expected. */\n",
       "        background-size: auto;\n",
       "    }\n",
       "    progress:not([value]), progress:not([value])::-webkit-progress-bar {\n",
       "        background: repeating-linear-gradient(45deg, #7e7e7e, #7e7e7e 10px, #5c5c5c 10px, #5c5c5c 20px);\n",
       "    }\n",
       "    .progress-bar-interrupted, .progress-bar-interrupted::-webkit-progress-bar {\n",
       "        background: #F44336;\n",
       "    }\n",
       "</style>\n"
      ],
      "text/plain": [
       "<IPython.core.display.HTML object>"
      ]
     },
     "metadata": {},
     "output_type": "display_data"
    },
    {
     "data": {
      "text/html": [
       "\n",
       "    <div>\n",
       "      <progress value='2000' class='' max='2000' style='width:300px; height:20px; vertical-align: middle;'></progress>\n",
       "      100.00% [2000/2000 00:05&lt;00:00 Sampling chain 1, 0 divergences]\n",
       "    </div>\n",
       "    "
      ],
      "text/plain": [
       "<IPython.core.display.HTML object>"
      ]
     },
     "metadata": {},
     "output_type": "display_data"
    },
    {
     "name": "stderr",
     "output_type": "stream",
     "text": [
      "Sampling 2 chains for 1_000 tune and 1_000 draw iterations (2_000 + 2_000 draws total) took 11 seconds.\n",
      "We recommend running at least 4 chains for robust computation of convergence diagnostics\n",
      "Auto-assigning NUTS sampler...\n",
      "Initializing NUTS using jitter+adapt_diag...\n",
      "Sequential sampling (2 chains in 1 job)\n",
      "NUTS: [a, b_f, b_gs, sigma]\n"
     ]
    },
    {
     "data": {
      "text/html": [
       "\n",
       "<style>\n",
       "    /* Turns off some styling */\n",
       "    progress {\n",
       "        /* gets rid of default border in Firefox and Opera. */\n",
       "        border: none;\n",
       "        /* Needs to be in here for Safari polyfill so background images work as expected. */\n",
       "        background-size: auto;\n",
       "    }\n",
       "    progress:not([value]), progress:not([value])::-webkit-progress-bar {\n",
       "        background: repeating-linear-gradient(45deg, #7e7e7e, #7e7e7e 10px, #5c5c5c 10px, #5c5c5c 20px);\n",
       "    }\n",
       "    .progress-bar-interrupted, .progress-bar-interrupted::-webkit-progress-bar {\n",
       "        background: #F44336;\n",
       "    }\n",
       "</style>\n"
      ],
      "text/plain": [
       "<IPython.core.display.HTML object>"
      ]
     },
     "metadata": {},
     "output_type": "display_data"
    },
    {
     "data": {
      "text/html": [
       "\n",
       "    <div>\n",
       "      <progress value='2000' class='' max='2000' style='width:300px; height:20px; vertical-align: middle;'></progress>\n",
       "      100.00% [2000/2000 00:04&lt;00:00 Sampling chain 0, 0 divergences]\n",
       "    </div>\n",
       "    "
      ],
      "text/plain": [
       "<IPython.core.display.HTML object>"
      ]
     },
     "metadata": {},
     "output_type": "display_data"
    },
    {
     "data": {
      "text/html": [
       "\n",
       "<style>\n",
       "    /* Turns off some styling */\n",
       "    progress {\n",
       "        /* gets rid of default border in Firefox and Opera. */\n",
       "        border: none;\n",
       "        /* Needs to be in here for Safari polyfill so background images work as expected. */\n",
       "        background-size: auto;\n",
       "    }\n",
       "    progress:not([value]), progress:not([value])::-webkit-progress-bar {\n",
       "        background: repeating-linear-gradient(45deg, #7e7e7e, #7e7e7e 10px, #5c5c5c 10px, #5c5c5c 20px);\n",
       "    }\n",
       "    .progress-bar-interrupted, .progress-bar-interrupted::-webkit-progress-bar {\n",
       "        background: #F44336;\n",
       "    }\n",
       "</style>\n"
      ],
      "text/plain": [
       "<IPython.core.display.HTML object>"
      ]
     },
     "metadata": {},
     "output_type": "display_data"
    },
    {
     "data": {
      "text/html": [
       "\n",
       "    <div>\n",
       "      <progress value='2000' class='' max='2000' style='width:300px; height:20px; vertical-align: middle;'></progress>\n",
       "      100.00% [2000/2000 00:03&lt;00:00 Sampling chain 1, 0 divergences]\n",
       "    </div>\n",
       "    "
      ],
      "text/plain": [
       "<IPython.core.display.HTML object>"
      ]
     },
     "metadata": {},
     "output_type": "display_data"
    },
    {
     "name": "stderr",
     "output_type": "stream",
     "text": [
      "Sampling 2 chains for 1_000 tune and 1_000 draw iterations (2_000 + 2_000 draws total) took 8 seconds.\n",
      "We recommend running at least 4 chains for robust computation of convergence diagnostics\n",
      "Auto-assigning NUTS sampler...\n",
      "Initializing NUTS using jitter+adapt_diag...\n",
      "Sequential sampling (2 chains in 1 job)\n",
      "NUTS: [a, b_f, b_a, sigma]\n"
     ]
    },
    {
     "data": {
      "text/html": [
       "\n",
       "<style>\n",
       "    /* Turns off some styling */\n",
       "    progress {\n",
       "        /* gets rid of default border in Firefox and Opera. */\n",
       "        border: none;\n",
       "        /* Needs to be in here for Safari polyfill so background images work as expected. */\n",
       "        background-size: auto;\n",
       "    }\n",
       "    progress:not([value]), progress:not([value])::-webkit-progress-bar {\n",
       "        background: repeating-linear-gradient(45deg, #7e7e7e, #7e7e7e 10px, #5c5c5c 10px, #5c5c5c 20px);\n",
       "    }\n",
       "    .progress-bar-interrupted, .progress-bar-interrupted::-webkit-progress-bar {\n",
       "        background: #F44336;\n",
       "    }\n",
       "</style>\n"
      ],
      "text/plain": [
       "<IPython.core.display.HTML object>"
      ]
     },
     "metadata": {},
     "output_type": "display_data"
    },
    {
     "data": {
      "text/html": [
       "\n",
       "    <div>\n",
       "      <progress value='2000' class='' max='2000' style='width:300px; height:20px; vertical-align: middle;'></progress>\n",
       "      100.00% [2000/2000 00:03&lt;00:00 Sampling chain 0, 0 divergences]\n",
       "    </div>\n",
       "    "
      ],
      "text/plain": [
       "<IPython.core.display.HTML object>"
      ]
     },
     "metadata": {},
     "output_type": "display_data"
    },
    {
     "data": {
      "text/html": [
       "\n",
       "<style>\n",
       "    /* Turns off some styling */\n",
       "    progress {\n",
       "        /* gets rid of default border in Firefox and Opera. */\n",
       "        border: none;\n",
       "        /* Needs to be in here for Safari polyfill so background images work as expected. */\n",
       "        background-size: auto;\n",
       "    }\n",
       "    progress:not([value]), progress:not([value])::-webkit-progress-bar {\n",
       "        background: repeating-linear-gradient(45deg, #7e7e7e, #7e7e7e 10px, #5c5c5c 10px, #5c5c5c 20px);\n",
       "    }\n",
       "    .progress-bar-interrupted, .progress-bar-interrupted::-webkit-progress-bar {\n",
       "        background: #F44336;\n",
       "    }\n",
       "</style>\n"
      ],
      "text/plain": [
       "<IPython.core.display.HTML object>"
      ]
     },
     "metadata": {},
     "output_type": "display_data"
    },
    {
     "data": {
      "text/html": [
       "\n",
       "    <div>\n",
       "      <progress value='2000' class='' max='2000' style='width:300px; height:20px; vertical-align: middle;'></progress>\n",
       "      100.00% [2000/2000 00:03&lt;00:00 Sampling chain 1, 0 divergences]\n",
       "    </div>\n",
       "    "
      ],
      "text/plain": [
       "<IPython.core.display.HTML object>"
      ]
     },
     "metadata": {},
     "output_type": "display_data"
    },
    {
     "name": "stderr",
     "output_type": "stream",
     "text": [
      "Sampling 2 chains for 1_000 tune and 1_000 draw iterations (2_000 + 2_000 draws total) took 7 seconds.\n",
      "We recommend running at least 4 chains for robust computation of convergence diagnostics\n"
     ]
    },
    {
     "name": "stdout",
     "output_type": "stream",
     "text": [
      "PSIS:                         rank    elpd_loo     p_loo  elpd_diff        weight  \\\n",
      "AVGFOOD_GROUPSIZE_AREA     0  322.847144  4.439754   0.000000  2.885929e-15   \n",
      "GROUPSIZE_AREA             1  323.534026  3.443261   0.686882  5.030876e-01   \n",
      "AVGFOOD_GROUPSIZE          2  323.692270  3.459335   0.845126  4.969124e-01   \n",
      "GROUPSIZE                  3  330.740111  2.544852   7.892966  0.000000e+00   \n",
      "AVGFOOD                    4  333.415140  2.324560  10.567995  0.000000e+00   \n",
      "area                       5  333.515934  2.481409  10.668790  0.000000e+00   \n",
      "AVGFOOD_AREA               6  334.676162  3.442385  11.829018  2.109424e-15   \n",
      "\n",
      "                               se       dse  warning     scale  \n",
      "AVGFOOD_GROUPSIZE_AREA  15.320499  0.000000    False  deviance  \n",
      "GROUPSIZE_AREA          14.995065  2.761174    False  deviance  \n",
      "AVGFOOD_GROUPSIZE       15.222967  3.308261    False  deviance  \n",
      "GROUPSIZE               14.018231  5.563166    False  deviance  \n",
      "AVGFOOD                 13.265442  6.651596    False  deviance  \n",
      "area                    13.221790  6.703250    False  deviance  \n",
      "AVGFOOD_AREA            13.333225  6.494722    False  deviance  \n",
      "WAIC:                         rank   elpd_waic    p_waic  elpd_diff        weight  \\\n",
      "AVGFOOD_GROUPSIZE_AREA     0  322.799783  4.416073   0.000000  2.704918e-15   \n",
      "GROUPSIZE_AREA             1  323.508161  3.430329   0.708378  5.021318e-01   \n",
      "AVGFOOD_GROUPSIZE          2  323.651538  3.438969   0.851755  4.978682e-01   \n",
      "GROUPSIZE                  3  330.718307  2.533950   7.918524  2.075288e-15   \n",
      "AVGFOOD                    4  333.400106  2.317043  10.600323  0.000000e+00   \n",
      "area                       5  333.497858  2.472371  10.698075  0.000000e+00   \n",
      "AVGFOOD_AREA               6  334.639521  3.424064  11.839737  0.000000e+00   \n",
      "\n",
      "                               se       dse  warning     scale  \n",
      "AVGFOOD_GROUPSIZE_AREA  15.311801  0.000000     True  deviance  \n",
      "GROUPSIZE_AREA          14.991379  2.760849     True  deviance  \n",
      "AVGFOOD_GROUPSIZE       15.214082  3.303694    False  deviance  \n",
      "GROUPSIZE               14.013987  5.558503    False  deviance  \n",
      "AVGFOOD                 13.263224  6.646099    False  deviance  \n",
      "area                    13.219105  6.697645    False  deviance  \n",
      "AVGFOOD_AREA            13.327914  6.490053    False  deviance  \n"
     ]
    },
    {
     "name": "stderr",
     "output_type": "stream",
     "text": [
      "/opt/conda/envs/fnds/lib/python3.9/site-packages/arviz/stats/stats.py:1632: UserWarning: For one or more samples the posterior variance of the log predictive densities exceeds 0.4. This could be indication of WAIC starting to fail. \n",
      "See http://arxiv.org/abs/1507.04544 for details\n",
      "  warnings.warn(\n",
      "/opt/conda/envs/fnds/lib/python3.9/site-packages/arviz/stats/stats.py:1632: UserWarning: For one or more samples the posterior variance of the log predictive densities exceeds 0.4. This could be indication of WAIC starting to fail. \n",
      "See http://arxiv.org/abs/1507.04544 for details\n",
      "  warnings.warn(\n"
     ]
    }
   ],
   "source": [
    "df = pd.read_csv(\n",
    "    \"Data/foxes.csv\", \n",
    "    sep=',',  \n",
    "    header=0\n",
    ")\n",
    "# prior predictive simulation\n",
    "a_std = standardize(df.area)\n",
    "g_std = standardize(df.group)\n",
    "f_std = standardize(df.avgfood)\n",
    "gs_std = standardize(df.groupsize)\n",
    "w_std = standardize(df.weight)\n",
    "# Store models in a structure\n",
    "models = {}\n",
    "# Area model\n",
    "with pm.Model() as m_AREA:\n",
    "    a = pm.Normal(\"a\", 0.1, 0.2)  \n",
    "    b_a = pm.Normal(\"b_a\", 0.1, 0.5) \n",
    "    mu = pm.Deterministic(\"mu\", a + b_a * a_std)  \n",
    "    sigma = pm.Exponential(\"sigma\", 1)\n",
    "    div = pm.Normal(\"div\", mu, sigma, observed=w_std)\n",
    "    # Using the quap method for inference (classical approach)\n",
    "    idata_AREA = pm.sample(idata_kwargs={\"log_likelihood\": True})\n",
    "models[\"area\"] = idata_AREA\n",
    "\n",
    "# Average food model\n",
    "with pm.Model() as m_GROUP:\n",
    "    a = pm.Normal(\"a\", 0.1, 0.2)  \n",
    "    b_f = pm.Normal(\"b_f\", 0.1, 0.5) \n",
    "    mu = pm.Deterministic(\"mu\", a + b_f * f_std)  \n",
    "    sigma = pm.Exponential(\"sigma\", 1)\n",
    "    div = pm.Normal(\"div\", mu, sigma, observed=w_std)\n",
    "    idata_AVGFOOD = pm.sample(idata_kwargs={\"log_likelihood\": True})\n",
    "models[\"AVGFOOD\"] = idata_AVGFOOD\n",
    "\n",
    "# Group size model\n",
    "with pm.Model() as m_GROUPSIZE:\n",
    "    a = pm.Normal(\"a\", 0.1, 0.2)  \n",
    "    b_gs = pm.Normal(\"b_gs\", 0.1, 0.5) \n",
    "    mu = pm.Deterministic(\"mu\", a + b_gs * gs_std)  \n",
    "    sigma = pm.Exponential(\"sigma\", 1)\n",
    "    div = pm.Normal(\"div\", mu, sigma, observed=w_std)\n",
    "    idata_GROUPSIZE = pm.sample(idata_kwargs={\"log_likelihood\": True})\n",
    "models[\"GROUPSIZE\"] = idata_GROUPSIZE\n",
    "\n",
    "# Groupsize and area model \n",
    "with pm.Model() as m_GROUPSIZE_AREA:\n",
    "    a = pm.Normal(\"a\", 0.1, 0.2)  \n",
    "    b_gs = pm.Normal(\"b_gs\", 0.1, 0.5) \n",
    "    b_a = pm.Normal(\"b_a\", 0.1, 0.5) \n",
    "    mu = pm.Deterministic(\"mu\", a + b_gs * gs_std + b_a * a_std)  \n",
    "    sigma = pm.Exponential(\"sigma\", 1)\n",
    "    div = pm.Normal(\"div\", mu, sigma, observed=w_std)\n",
    "    idata_GROUPSIZE_AREA = pm.sample(idata_kwargs={\"log_likelihood\": True})\n",
    "models[\"GROUPSIZE_AREA\"] = idata_GROUPSIZE_AREA\n",
    "\n",
    "# Average food and groupsize and area model\n",
    "with pm.Model() as m_AVGFOOD_GROUPSIZE_AREA:\n",
    "    a = pm.Normal(\"a\", 0.1, 0.2)  \n",
    "    b_a = pm.Normal(\"b_a\", 0.1, 0.5) \n",
    "    b_f = pm.Normal(\"b_f\", 0.1, 0.5) \n",
    "    b_gs = pm.Normal(\"b_gs\", 0.1, 0.5) \n",
    "    mu = pm.Deterministic(\"mu\", a + b_f * f_std + b_gs * gs_std + b_a * a_std)  \n",
    "    sigma = pm.Exponential(\"sigma\", 1)\n",
    "    div = pm.Normal(\"div\", mu, sigma, observed=w_std)\n",
    "    idata_AVGFOOD_GROUPSIZE_AREA = pm.sample(idata_kwargs={\"log_likelihood\": True})\n",
    "models[\"AVGFOOD_GROUPSIZE_AREA\"] = idata_AVGFOOD_GROUPSIZE_AREA\n",
    "\n",
    "# Average food and groupsize model\n",
    "with pm.Model() as m_AVGFOOD_GROUPSIZE:\n",
    "    a = pm.Normal(\"a\", 0.1, 0.2)  \n",
    "    b_f = pm.Normal(\"b_f\", 0.1, 0.5) \n",
    "    b_gs = pm.Normal(\"b_gs\", 0.1, 0.5) \n",
    "    mu = pm.Deterministic(\"mu\", a + b_f * f_std + b_gs * gs_std)  \n",
    "    sigma = pm.Exponential(\"sigma\", 1)\n",
    "    div = pm.Normal(\"div\", mu, sigma, observed=w_std)\n",
    "    idata_AVGFOOD_GROUPSIZE = pm.sample(idata_kwargs={\"log_likelihood\": True})\n",
    "models[\"AVGFOOD_GROUPSIZE\"] = idata_AVGFOOD_GROUPSIZE\n",
    "\n",
    "# Average food and area model\n",
    "with pm.Model() as m_AVGFOOD_AREA:\n",
    "    a = pm.Normal(\"a\", 0.1, 0.2)  \n",
    "    b_f = pm.Normal(\"b_f\", 0.1, 0.5) \n",
    "    b_a = pm.Normal(\"b_a\", 0.1, 0.5) \n",
    "    mu = pm.Deterministic(\"mu\", a + b_f * f_std + b_a * a_std)  \n",
    "    sigma = pm.Exponential(\"sigma\", 1)\n",
    "    div = pm.Normal(\"div\", mu, sigma, observed=w_std)\n",
    "    idata_AVGFOOD_AREA = pm.sample(idata_kwargs={\"log_likelihood\": True})\n",
    "models[\"AVGFOOD_AREA\"] = idata_AVGFOOD_AREA\n",
    "\n",
    "# Execute the comparison between 7 models\n",
    "# PSIS comparison\n",
    "compare_df_psis_q2 = az.compare(\n",
    "    compare_dict=models,\n",
    "    ic=\"loo\",\n",
    "    scale=\"deviance\"\n",
    ")\n",
    "# WAIC comparison\n",
    "compare_df_haic_q2 = az.compare(\n",
    "    compare_dict=models,\n",
    "    ic=\"waic\",\n",
    "    scale=\"deviance\"\n",
    ")\n",
    "print(\"PSIS:\", compare_df_psis_q2)\n",
    "print(\"WAIC:\", compare_df_haic_q2)"
   ]
  },
  {
   "cell_type": "markdown",
   "metadata": {},
   "source": [
    "The combination of variables Averagefood, Groupsize, and Area ranks highest (0) out of the 7 models.  For elpd_loo scores, this combination has the lowest score of ~322 compared to values greater than it for other models, and elpd_waic has the highest value of ~4.27. The elpd_diff value and weight for this combination of variables also yields 0.00 for both, indicating a perfect fit."
   ]
  },
  {
   "cell_type": "markdown",
   "metadata": {
    "deletable": false,
    "editable": false
   },
   "source": [
    "<!-- END QUESTION -->\n",
    "\n",
    "<!-- BEGIN QUESTION -->\n",
    "\n",
    "Answer the following question based on your analysis above: \n",
    "\n",
    "How would you interpret the estimates for the coefficients from the best scoring model in terms of their ability to predict weight? **Limit your response to no more than 10 sentences.**\n",
    "\n",
    "*Hint: Answering this question requires an evaluation of the coefficient estimates which can be obtained by passing the inference data object for the best performing model to `arviz.summary()`.*"
   ]
  },
  {
   "cell_type": "code",
   "execution_count": 48,
   "metadata": {
    "tags": []
   },
   "outputs": [
    {
     "data": {
      "text/html": [
       "<div>\n",
       "<style scoped>\n",
       "    .dataframe tbody tr th:only-of-type {\n",
       "        vertical-align: middle;\n",
       "    }\n",
       "\n",
       "    .dataframe tbody tr th {\n",
       "        vertical-align: top;\n",
       "    }\n",
       "\n",
       "    .dataframe thead th {\n",
       "        text-align: right;\n",
       "    }\n",
       "</style>\n",
       "<table border=\"1\" class=\"dataframe\">\n",
       "  <thead>\n",
       "    <tr style=\"text-align: right;\">\n",
       "      <th></th>\n",
       "      <th>mean</th>\n",
       "      <th>sd</th>\n",
       "      <th>hdi_5.5%</th>\n",
       "      <th>hdi_94.5%</th>\n",
       "    </tr>\n",
       "  </thead>\n",
       "  <tbody>\n",
       "    <tr>\n",
       "      <th>a</th>\n",
       "      <td>0.019</td>\n",
       "      <td>0.079</td>\n",
       "      <td>-0.106</td>\n",
       "      <td>0.148</td>\n",
       "    </tr>\n",
       "    <tr>\n",
       "      <th>b_a</th>\n",
       "      <td>0.276</td>\n",
       "      <td>0.176</td>\n",
       "      <td>-0.006</td>\n",
       "      <td>0.551</td>\n",
       "    </tr>\n",
       "    <tr>\n",
       "      <th>b_f</th>\n",
       "      <td>0.295</td>\n",
       "      <td>0.217</td>\n",
       "      <td>-0.041</td>\n",
       "      <td>0.630</td>\n",
       "    </tr>\n",
       "    <tr>\n",
       "      <th>b_gs</th>\n",
       "      <td>-0.632</td>\n",
       "      <td>0.186</td>\n",
       "      <td>-0.926</td>\n",
       "      <td>-0.345</td>\n",
       "    </tr>\n",
       "    <tr>\n",
       "      <th>sigma</th>\n",
       "      <td>0.958</td>\n",
       "      <td>0.066</td>\n",
       "      <td>0.852</td>\n",
       "      <td>1.057</td>\n",
       "    </tr>\n",
       "    <tr>\n",
       "      <th>...</th>\n",
       "      <td>...</td>\n",
       "      <td>...</td>\n",
       "      <td>...</td>\n",
       "      <td>...</td>\n",
       "    </tr>\n",
       "    <tr>\n",
       "      <th>mu[111]</th>\n",
       "      <td>-0.086</td>\n",
       "      <td>0.090</td>\n",
       "      <td>-0.239</td>\n",
       "      <td>0.043</td>\n",
       "    </tr>\n",
       "    <tr>\n",
       "      <th>mu[112]</th>\n",
       "      <td>-0.086</td>\n",
       "      <td>0.090</td>\n",
       "      <td>-0.239</td>\n",
       "      <td>0.043</td>\n",
       "    </tr>\n",
       "    <tr>\n",
       "      <th>mu[113]</th>\n",
       "      <td>-0.311</td>\n",
       "      <td>0.202</td>\n",
       "      <td>-0.642</td>\n",
       "      <td>-0.003</td>\n",
       "    </tr>\n",
       "    <tr>\n",
       "      <th>mu[114]</th>\n",
       "      <td>-0.311</td>\n",
       "      <td>0.202</td>\n",
       "      <td>-0.642</td>\n",
       "      <td>-0.003</td>\n",
       "    </tr>\n",
       "    <tr>\n",
       "      <th>mu[115]</th>\n",
       "      <td>-0.311</td>\n",
       "      <td>0.202</td>\n",
       "      <td>-0.642</td>\n",
       "      <td>-0.003</td>\n",
       "    </tr>\n",
       "  </tbody>\n",
       "</table>\n",
       "<p>121 rows × 4 columns</p>\n",
       "</div>"
      ],
      "text/plain": [
       "          mean     sd  hdi_5.5%  hdi_94.5%\n",
       "a        0.019  0.079    -0.106      0.148\n",
       "b_a      0.276  0.176    -0.006      0.551\n",
       "b_f      0.295  0.217    -0.041      0.630\n",
       "b_gs    -0.632  0.186    -0.926     -0.345\n",
       "sigma    0.958  0.066     0.852      1.057\n",
       "...        ...    ...       ...        ...\n",
       "mu[111] -0.086  0.090    -0.239      0.043\n",
       "mu[112] -0.086  0.090    -0.239      0.043\n",
       "mu[113] -0.311  0.202    -0.642     -0.003\n",
       "mu[114] -0.311  0.202    -0.642     -0.003\n",
       "mu[115] -0.311  0.202    -0.642     -0.003\n",
       "\n",
       "[121 rows x 4 columns]"
      ]
     },
     "execution_count": 48,
     "metadata": {},
     "output_type": "execute_result"
    }
   ],
   "source": [
    "# Write code here\n",
    "az.summary(idata_AVGFOOD_GROUPSIZE_AREA, kind=\"stats\")"
   ]
  },
  {
   "cell_type": "markdown",
   "metadata": {},
   "source": [
    "\"a\" represents the intercept value of the model with a mean of 0.016 ranging from -0.118 to 0.122 in a 89% HPDI, and has little influence on predicting weight. \"b_a\" is the coefficient for area ranging from -0.026 to 0.522 so it could have little influence or it could have a moderate influence. \"b_f\" is the coefficient of average food ranging from -0.061 to 0.639 so it could have litte influence to a decent amount of impact on weight. \"b_gs\" is the coefficient for group size and it ranges from -0.923 to -0.306 suggesting that weight is strongly impacted and decreasing as groupsize increases. Sigma suggests that in a range of 0.867 to 1.063 the model has room for uncertainty but fits the data."
   ]
  },
  {
   "cell_type": "markdown",
   "metadata": {
    "deletable": false,
    "editable": false
   },
   "source": [
    "<!-- END QUESTION -->\n",
    "\n",
    "<!-- BEGIN QUESTION -->\n",
    "\n",
    "**Question 3. (10 points)** Using the data in  *Data/cherry_blossoms.csv*:\n",
    "\n",
    "In this problem, you will build predictive models of the relationship between the timing of cherry blossoms (`doy`) and March temperature in the same year (`temp`). \n",
    "\n",
    "*Note:*\n",
    "*   Only include observations that have recorded values for `doy` and `temp` (i.e., exclude `NaN` values). \n",
    "*   The [`pandas.DataFrame.dropna`](https://pandas.pydata.org/docs/reference/api/pandas.DataFrame.dropna.html) method can be used to exclude `NaN` values. \n",
    "\n",
    "\n",
    "Construct at least two different models to predict `doy` with `temp`."
   ]
  },
  {
   "cell_type": "code",
   "execution_count": null,
   "metadata": {
    "tags": []
   },
   "outputs": [
    {
     "name": "stderr",
     "output_type": "stream",
     "text": [
      "Auto-assigning NUTS sampler...\n",
      "Initializing NUTS using jitter+adapt_diag...\n",
      "Sequential sampling (2 chains in 1 job)\n",
      "NUTS: [a, b, sigma]\n"
     ]
    },
    {
     "data": {
      "text/html": [
       "\n",
       "<style>\n",
       "    /* Turns off some styling */\n",
       "    progress {\n",
       "        /* gets rid of default border in Firefox and Opera. */\n",
       "        border: none;\n",
       "        /* Needs to be in here for Safari polyfill so background images work as expected. */\n",
       "        background-size: auto;\n",
       "    }\n",
       "    progress:not([value]), progress:not([value])::-webkit-progress-bar {\n",
       "        background: repeating-linear-gradient(45deg, #7e7e7e, #7e7e7e 10px, #5c5c5c 10px, #5c5c5c 20px);\n",
       "    }\n",
       "    .progress-bar-interrupted, .progress-bar-interrupted::-webkit-progress-bar {\n",
       "        background: #F44336;\n",
       "    }\n",
       "</style>\n"
      ],
      "text/plain": [
       "<IPython.core.display.HTML object>"
      ]
     },
     "metadata": {},
     "output_type": "display_data"
    },
    {
     "data": {
      "text/html": [
       "\n",
       "    <div>\n",
       "      <progress value='2000' class='' max='2000' style='width:300px; height:20px; vertical-align: middle;'></progress>\n",
       "      100.00% [2000/2000 00:02&lt;00:00 Sampling chain 0, 0 divergences]\n",
       "    </div>\n",
       "    "
      ],
      "text/plain": [
       "<IPython.core.display.HTML object>"
      ]
     },
     "metadata": {},
     "output_type": "display_data"
    },
    {
     "data": {
      "text/html": [
       "\n",
       "<style>\n",
       "    /* Turns off some styling */\n",
       "    progress {\n",
       "        /* gets rid of default border in Firefox and Opera. */\n",
       "        border: none;\n",
       "        /* Needs to be in here for Safari polyfill so background images work as expected. */\n",
       "        background-size: auto;\n",
       "    }\n",
       "    progress:not([value]), progress:not([value])::-webkit-progress-bar {\n",
       "        background: repeating-linear-gradient(45deg, #7e7e7e, #7e7e7e 10px, #5c5c5c 10px, #5c5c5c 20px);\n",
       "    }\n",
       "    .progress-bar-interrupted, .progress-bar-interrupted::-webkit-progress-bar {\n",
       "        background: #F44336;\n",
       "    }\n",
       "</style>\n"
      ],
      "text/plain": [
       "<IPython.core.display.HTML object>"
      ]
     },
     "metadata": {},
     "output_type": "display_data"
    },
    {
     "data": {
      "text/html": [
       "\n",
       "    <div>\n",
       "      <progress value='2000' class='' max='2000' style='width:300px; height:20px; vertical-align: middle;'></progress>\n",
       "      100.00% [2000/2000 00:02&lt;00:00 Sampling chain 1, 0 divergences]\n",
       "    </div>\n",
       "    "
      ],
      "text/plain": [
       "<IPython.core.display.HTML object>"
      ]
     },
     "metadata": {},
     "output_type": "display_data"
    },
    {
     "name": "stderr",
     "output_type": "stream",
     "text": [
      "Sampling 2 chains for 1_000 tune and 1_000 draw iterations (2_000 + 2_000 draws total) took 4 seconds.\n",
      "We recommend running at least 4 chains for robust computation of convergence diagnostics\n",
      "Auto-assigning NUTS sampler...\n",
      "Initializing NUTS using jitter+adapt_diag...\n",
      "Sequential sampling (2 chains in 1 job)\n",
      "NUTS: [a, b, b_t, sigma]\n"
     ]
    },
    {
     "data": {
      "text/html": [
       "\n",
       "<style>\n",
       "    /* Turns off some styling */\n",
       "    progress {\n",
       "        /* gets rid of default border in Firefox and Opera. */\n",
       "        border: none;\n",
       "        /* Needs to be in here for Safari polyfill so background images work as expected. */\n",
       "        background-size: auto;\n",
       "    }\n",
       "    progress:not([value]), progress:not([value])::-webkit-progress-bar {\n",
       "        background: repeating-linear-gradient(45deg, #7e7e7e, #7e7e7e 10px, #5c5c5c 10px, #5c5c5c 20px);\n",
       "    }\n",
       "    .progress-bar-interrupted, .progress-bar-interrupted::-webkit-progress-bar {\n",
       "        background: #F44336;\n",
       "    }\n",
       "</style>\n"
      ],
      "text/plain": [
       "<IPython.core.display.HTML object>"
      ]
     },
     "metadata": {},
     "output_type": "display_data"
    },
    {
     "data": {
      "text/html": [
       "\n",
       "    <div>\n",
       "      <progress value='2000' class='' max='2000' style='width:300px; height:20px; vertical-align: middle;'></progress>\n",
       "      100.00% [2000/2000 00:03&lt;00:00 Sampling chain 0, 0 divergences]\n",
       "    </div>\n",
       "    "
      ],
      "text/plain": [
       "<IPython.core.display.HTML object>"
      ]
     },
     "metadata": {},
     "output_type": "display_data"
    },
    {
     "data": {
      "text/html": [
       "\n",
       "<style>\n",
       "    /* Turns off some styling */\n",
       "    progress {\n",
       "        /* gets rid of default border in Firefox and Opera. */\n",
       "        border: none;\n",
       "        /* Needs to be in here for Safari polyfill so background images work as expected. */\n",
       "        background-size: auto;\n",
       "    }\n",
       "    progress:not([value]), progress:not([value])::-webkit-progress-bar {\n",
       "        background: repeating-linear-gradient(45deg, #7e7e7e, #7e7e7e 10px, #5c5c5c 10px, #5c5c5c 20px);\n",
       "    }\n",
       "    .progress-bar-interrupted, .progress-bar-interrupted::-webkit-progress-bar {\n",
       "        background: #F44336;\n",
       "    }\n",
       "</style>\n"
      ],
      "text/plain": [
       "<IPython.core.display.HTML object>"
      ]
     },
     "metadata": {},
     "output_type": "display_data"
    },
    {
     "data": {
      "text/html": [
       "\n",
       "    <div>\n",
       "      <progress value='218' class='' max='2000' style='width:300px; height:20px; vertical-align: middle;'></progress>\n",
       "      10.90% [218/2000 00:00&lt;00:04 Sampling chain 1, 0 divergences]\n",
       "    </div>\n",
       "    "
      ],
      "text/plain": [
       "<IPython.core.display.HTML object>"
      ]
     },
     "metadata": {},
     "output_type": "display_data"
    }
   ],
   "source": [
    "df = pd.read_csv(\n",
    "    \"Data/cherry_blossoms.csv\"\n",
    ")\n",
    "df_dropped = df.dropna(subset=[\"doy\", \"temp\"])\n",
    "t_std = standardize(df_dropped[\"temp\"])\n",
    "d_std = standardize(df_dropped[\"doy\"])\n",
    "# first-order linear model\n",
    "with pm.Model() as cb_linear:\n",
    "    a = pm.Normal(\"a\", 0, 0.2)\n",
    "    b = pm.Normal(\"b\", 0, 0.5)\n",
    "    mu = pm.Deterministic(\"mu\", a + b * t_std)\n",
    "    sigma = pm.Exponential(\"sigma\", 1)\n",
    "    R = pm.Normal(\"doy\", mu, sigma, observed=d_std)\n",
    "    idata_cb_linear = pm.sample(idata_kwargs={\"log_likelihood\": True})\n",
    "# quadratic model\n",
    "with pm.Model() as cb_quadratic:\n",
    "    a = pm.Normal(\"a\", 0, 0.2)\n",
    "    b = pm.Normal(\"b\", 0, 0.5)\n",
    "    b_t = pm.Normal(\"b_t\", 0, 0.5)\n",
    "    mu = pm.Deterministic(\"mu\", a + b * t_std + b_t * t_std**2)\n",
    "    sigma = pm.Exponential(\"sigma\", 1)\n",
    "    R = pm.Normal(\"doy\", mu, sigma, observed=d_std)\n",
    "    idata_cb_quadratic = pm.sample(idata_kwargs={\"log_likelihood\": True})\n"
   ]
  },
  {
   "cell_type": "markdown",
   "metadata": {
    "deletable": false,
    "editable": false
   },
   "source": [
    "<!-- END QUESTION -->\n",
    "\n",
    " Compare the two models with PSIS or WAIC. "
   ]
  },
  {
   "cell_type": "markdown",
   "metadata": {
    "deletable": false,
    "editable": false
   },
   "source": [
    "<!-- BEGIN QUESTION -->\n",
    "\n"
   ]
  },
  {
   "cell_type": "code",
   "execution_count": null,
   "metadata": {
    "tags": []
   },
   "outputs": [],
   "source": [
    "# Comparison using PSIS\n",
    "cherry_models = {\n",
    "    \"linear\" : idata_cb_linear,\n",
    "    \"quadratic\" : idata_cb_quadratic\n",
    "}\n",
    "compare_cherry_models = az.compare(cherry_models, ic=\"loo\", scale=\"deviance\")\n",
    "print(compare_cherry_models)"
   ]
  },
  {
   "cell_type": "markdown",
   "metadata": {
    "deletable": false,
    "editable": false
   },
   "source": [
    "State which model is better at making predictions and explain what evidence leads you to this conclusion. **Limit your response to no more than 5 sentences.**"
   ]
  },
  {
   "cell_type": "markdown",
   "metadata": {},
   "source": [
    "Linear is better at making predictions because it ranked higher (0) than quadratic (1). It has a lower elpd_loo value than quadratic as well, as 2148 < 2150. It is a better predictor than quadratic because the elpd_diff value is 0.00000 whereas for quadratic, it is nonzero at a value of ~2.13."
   ]
  },
  {
   "cell_type": "code",
   "execution_count": null,
   "metadata": {
    "deletable": false,
    "editable": false
   },
   "outputs": [],
   "source": [
    "grader.check(\"q3.1\")"
   ]
  },
  {
   "cell_type": "markdown",
   "metadata": {
    "deletable": false,
    "editable": false
   },
   "source": [
    "<!-- END QUESTION -->\n",
    "\n"
   ]
  },
  {
   "cell_type": "markdown",
   "metadata": {
    "deletable": false,
    "editable": false
   },
   "source": [
    "## Submission\n",
    "\n",
    "Make sure you have run all cells in your notebook in order before running the cell below, so that all images/graphs appear in the output. The cell below will generate a zip file for you to submit. **Please save before exporting!**\n",
    "\n",
    "Before attempting to export your work for submission follow this process: First, make sure you have run all cells in your notebook **in order**. Then, **save your notebook**. Finally, run the export cell below. This sequence of actions will ensure that all code/output/plots appear in the generated PDF. **Only the PDF** will be evaluated for grading purposes.  When executed, the cell below will generate a zip file for you to submit."
   ]
  },
  {
   "cell_type": "code",
   "execution_count": null,
   "metadata": {
    "deletable": false,
    "editable": false
   },
   "outputs": [],
   "source": [
    "# Save your notebook first, then run this cell to export your submission.\n",
    "grader.export(run_tests=True)"
   ]
  },
  {
   "cell_type": "markdown",
   "metadata": {},
   "source": [
    " "
   ]
  }
 ],
 "metadata": {
  "kernelspec": {
   "display_name": "Python [conda env:fnds]",
   "language": "python",
   "name": "conda-env-fnds-py"
  },
  "language_info": {
   "codemirror_mode": {
    "name": "ipython",
    "version": 3
   },
   "file_extension": ".py",
   "mimetype": "text/x-python",
   "name": "python",
   "nbconvert_exporter": "python",
   "pygments_lexer": "ipython3",
   "version": "3.9.21"
  },
  "otter": {
   "OK_FORMAT": true,
   "assignment_name": "hw4",
   "tests": {
    "q3.1": {
     "name": "q3.1",
     "points": null,
     "suites": [
      {
       "cases": [],
       "scored": true,
       "setup": "",
       "teardown": "",
       "type": "doctest"
      }
     ]
    }
   }
  },
  "varInspector": {
   "cols": {
    "lenName": 16,
    "lenType": 16,
    "lenVar": 40
   },
   "kernels_config": {
    "python": {
     "delete_cmd_postfix": "",
     "delete_cmd_prefix": "del ",
     "library": "var_list.py",
     "varRefreshCmd": "print(var_dic_list())"
    },
    "r": {
     "delete_cmd_postfix": ") ",
     "delete_cmd_prefix": "rm(",
     "library": "var_list.r",
     "varRefreshCmd": "cat(var_dic_list()) "
    }
   },
   "types_to_exclude": [
    "module",
    "function",
    "builtin_function_or_method",
    "instance",
    "_Feature"
   ],
   "window_display": false
  }
 },
 "nbformat": 4,
 "nbformat_minor": 4
}
