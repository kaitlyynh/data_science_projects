{
 "cells": [
  {
   "cell_type": "code",
   "execution_count": 87,
   "metadata": {
    "deletable": false,
    "editable": false
   },
   "outputs": [],
   "source": [
    "# Initialize Otter\n",
    "import otter\n",
    "grader = otter.Notebook(\"hw3.ipynb\")"
   ]
  },
  {
   "cell_type": "markdown",
   "metadata": {},
   "source": [
    "## Homework #3"
   ]
  },
  {
   "cell_type": "markdown",
   "metadata": {},
   "source": [
    "*Please edit the cell below to add your name, NetID, and any group members that you collaborated with on this assignment.* **Complete this section before proceeding to the assignment questions.**"
   ]
  },
  {
   "cell_type": "markdown",
   "metadata": {},
   "source": [
    "Name:  Kaitlyn Huynh\n",
    "NetID:  kh3599\n",
    "Group Members:   \n",
    "***"
   ]
  },
  {
   "cell_type": "code",
   "execution_count": 88,
   "metadata": {},
   "outputs": [],
   "source": [
    "# Set random seed and ensure plots are displayed in the notebook\n",
    "import pandas as pd\n",
    "import numpy as np\n",
    "from scipy import stats\n",
    "import matplotlib.pyplot as plt\n",
    "import arviz as az\n",
    "import seaborn as sns\n",
    "\n",
    "import pymc as pm\n",
    "from quap import quap\n",
    "\n",
    "from matplotlib import animation\n",
    "from scipy.special import expit as logistic\n",
    "\n",
    "from matplotlib.lines import Line2D\n",
    "np.random.seed(5)\n",
    "\n",
    "%matplotlib inline\n",
    "\n",
    "%config Inline.figure_format = 'retina'\n",
    "az.rcParams[\"stats.hdi_prob\"] = 0.89  # sets default credible interval used by arviz"
   ]
  },
  {
   "cell_type": "code",
   "execution_count": 89,
   "metadata": {},
   "outputs": [],
   "source": [
    "# utility function for standardizing variables\n",
    "def standardize(series):\n",
    "    return (series - series.mean()) / series.std()"
   ]
  },
  {
   "cell_type": "markdown",
   "metadata": {
    "deletable": false,
    "editable": false
   },
   "source": [
    "<!-- BEGIN QUESTION -->\n",
    "\n",
    "**Important Note**: *All solutions to the problems below must use the approaches taught so far in the course for answering the questions. There are other approaches for solving these problems that do not require the use of Bayesian approaches, PyMC, quadratic approximation, etc. However, we will soon encounter problems where those tools lack the functionality that is needed to solve the problems. It will be to your benefit to practice using the approach shown in lecture and found in the textbook to begin practicing for what is to come later. In addition, you will not receive full credit on your answers if you do not use the techniques being taught in the course.*"
   ]
  },
  {
   "cell_type": "markdown",
   "metadata": {
    "deletable": false,
    "editable": false
   },
   "source": [
    "**Question 1 (6 points)**. For each of the four DAGs below, state which variables (**if any**) you must adjust for/condition on/stratify by (all of these terms are equivalent) to estimate the total causal influence of X on Y.\n",
    "\n",
    "Be sure to **provide justification** for your response to each part based on identification of elementary confounds and using the backdoor criterion. **Limit your responses to each part to no more than 2 sentences.** "
   ]
  },
  {
   "cell_type": "markdown",
   "metadata": {
    "deletable": false,
    "editable": false
   },
   "source": [
    "![](dags.png)"
   ]
  },
  {
   "cell_type": "markdown",
   "metadata": {
    "deletable": false,
    "editable": false
   },
   "source": [
    "*Note: Feel free to use https://dagitty.net/dags.html to confirm your adjustment set but understand that you will not receive full credit without justifying your responses.* "
   ]
  },
  {
   "cell_type": "markdown",
   "metadata": {
    "deletable": false,
    "editable": false
   },
   "source": [
    "A)"
   ]
  },
  {
   "cell_type": "markdown",
   "metadata": {
    "deletable": false,
    "editable": false
   },
   "source": [
    "B)"
   ]
  },
  {
   "cell_type": "markdown",
   "metadata": {
    "deletable": false,
    "editable": false
   },
   "source": [
    "C)"
   ]
  },
  {
   "cell_type": "markdown",
   "metadata": {
    "deletable": false,
    "editable": false
   },
   "source": [
    "D)"
   ]
  },
  {
   "cell_type": "markdown",
   "metadata": {},
   "source": [
    "A) Stratifying by Z would remove all confounds leading into the two target variables X and Y. The backdoor path into X is the arrow from Z to X and stratifying by Z would block that path.\n",
    "\n",
    "B) There are no paths leading into X, and by backdoor criterion there are no paths to be closed.\n",
    "\n",
    "C) Stratifying by A would remove the confounds between X and Y, it closes the path leading from A into X. Z is a collider so we shouldn't stratify on it.\n",
    "\n",
    "D) Stratifying by A closes the path leading from A into X. X -> Z -> Y is a pipe and if we stratify by Z we would not be able to identify the causal effect between X and Y, so ultimately only A is conditioned on."
   ]
  },
  {
   "cell_type": "markdown",
   "metadata": {
    "deletable": false,
    "editable": false
   },
   "source": [
    "<!-- END QUESTION -->\n",
    "\n",
    "<!-- BEGIN QUESTION -->\n",
    "\n",
    "**Question 2 (17 points)**. The data `foxes.csv` are 116 foxes from 30 different urban groups in England. These fox groups are like street gangs. Group size (`groupsize`) varies from 2 to 8 individuals. Each group maintains its own (almost exclusive) urban territory. Some territories are larger than others. The area variable encodes this information. Some territories also have more average food (`avgfood`) than others. And food influences the weight of each fox. \n",
    "\n",
    "Assume the causal model defined by this DAG:  \n",
    "\n",
    "![](fox_dag.png)\n",
    "\n",
    "where $F$ is `avgfood`, $G$ is `groupsize`, $A$ is `area`, and $W$ is `weight`.  "
   ]
  },
  {
   "cell_type": "markdown",
   "metadata": {
    "deletable": false,
    "editable": false
   },
   "source": [
    "Solve the following problems based on the above data and causal model:"
   ]
  },
  {
   "cell_type": "markdown",
   "metadata": {
    "deletable": false,
    "editable": false
   },
   "source": [
    "1. Considering area ($A$) as the treatment and average food ($F$) as the outcome, use the backdoor criterion to determine the variables that should be included in your model. \n",
    "\n",
    "    *Note: Be sure to explicitly state how the backdoor criterion was applied and the implications for the definition of your statistical model due to your use of the backdoor criterion.*"
   ]
  },
  {
   "cell_type": "markdown",
   "metadata": {},
   "source": [
    "There are no other variables within F and G that impact the paths we have from A to F. There is no path from any other variable besides A and F that lead into A, and by backdoor criterion no other variable should be included in the model besides A and F."
   ]
  },
  {
   "cell_type": "markdown",
   "metadata": {
    "deletable": false,
    "editable": false
   },
   "source": [
    "<!-- END QUESTION -->\n",
    "\n",
    "<!-- BEGIN QUESTION -->\n",
    "\n",
    "2. Estimate the **total causal effect** of $A$ on $F$.  **Include a prior predictive simulation** to justify your assignment of prior distributions to unobserved intercept and slope parameters in your model. **Limit your justification to no more than 3 sentences.**\n",
    "    \n",
    "    *Note:* \n",
    "    *   Perform your prior predictive simulation without using the `pymc.sample_prior_predictive()` function. \n",
    "    *   Feel free to assign an Exponential(1) to your standard deviation parameter in your model without justifying this choice.\n",
    "    * You might want to consider standardizing the variables in your model (but this is not a requirement)."
   ]
  },
  {
   "cell_type": "code",
   "execution_count": 90,
   "metadata": {
    "tags": []
   },
   "outputs": [
    {
     "data": {
      "text/html": [
       "\n",
       "<style>\n",
       "    /* Turns off some styling */\n",
       "    progress {\n",
       "        /* gets rid of default border in Firefox and Opera. */\n",
       "        border: none;\n",
       "        /* Needs to be in here for Safari polyfill so background images work as expected. */\n",
       "        background-size: auto;\n",
       "    }\n",
       "    progress:not([value]), progress:not([value])::-webkit-progress-bar {\n",
       "        background: repeating-linear-gradient(45deg, #7e7e7e, #7e7e7e 10px, #5c5c5c 10px, #5c5c5c 20px);\n",
       "    }\n",
       "    .progress-bar-interrupted, .progress-bar-interrupted::-webkit-progress-bar {\n",
       "        background: #F44336;\n",
       "    }\n",
       "</style>\n"
      ],
      "text/plain": [
       "<IPython.core.display.HTML object>"
      ]
     },
     "metadata": {},
     "output_type": "display_data"
    },
    {
     "data": {
      "text/html": [
       "\n",
       "    <div>\n",
       "      <progress value='12' class='' max='12' style='width:300px; height:20px; vertical-align: middle;'></progress>\n",
       "      100.00% [12/12 00:00&lt;00:00 logp = -78.672, ||grad|| = 0.0054324]\n",
       "    </div>\n",
       "    "
      ],
      "text/plain": [
       "<IPython.core.display.HTML object>"
      ]
     },
     "metadata": {},
     "output_type": "display_data"
    },
    {
     "name": "stdout",
     "output_type": "stream",
     "text": [
      "\n"
     ]
    },
    {
     "data": {
      "text/html": [
       "<div>\n",
       "<style scoped>\n",
       "    .dataframe tbody tr th:only-of-type {\n",
       "        vertical-align: middle;\n",
       "    }\n",
       "\n",
       "    .dataframe tbody tr th {\n",
       "        vertical-align: top;\n",
       "    }\n",
       "\n",
       "    .dataframe thead th {\n",
       "        text-align: right;\n",
       "    }\n",
       "</style>\n",
       "<table border=\"1\" class=\"dataframe\">\n",
       "  <thead>\n",
       "    <tr style=\"text-align: right;\">\n",
       "      <th></th>\n",
       "      <th>mean</th>\n",
       "      <th>sd</th>\n",
       "      <th>hdi_5.5%</th>\n",
       "      <th>hdi_94.5%</th>\n",
       "    </tr>\n",
       "  </thead>\n",
       "  <tbody>\n",
       "    <tr>\n",
       "      <th>a</th>\n",
       "      <td>0.002</td>\n",
       "      <td>0.044</td>\n",
       "      <td>-0.069</td>\n",
       "      <td>0.071</td>\n",
       "    </tr>\n",
       "    <tr>\n",
       "      <th>b_a</th>\n",
       "      <td>0.884</td>\n",
       "      <td>0.043</td>\n",
       "      <td>0.815</td>\n",
       "      <td>0.953</td>\n",
       "    </tr>\n",
       "    <tr>\n",
       "      <th>b_f</th>\n",
       "      <td>0.497</td>\n",
       "      <td>0.500</td>\n",
       "      <td>-0.350</td>\n",
       "      <td>1.256</td>\n",
       "    </tr>\n",
       "    <tr>\n",
       "      <th>sigma</th>\n",
       "      <td>0.466</td>\n",
       "      <td>0.066</td>\n",
       "      <td>0.359</td>\n",
       "      <td>0.568</td>\n",
       "    </tr>\n",
       "  </tbody>\n",
       "</table>\n",
       "</div>"
      ],
      "text/plain": [
       "        mean     sd  hdi_5.5%  hdi_94.5%\n",
       "a      0.002  0.044    -0.069      0.071\n",
       "b_a    0.884  0.043     0.815      0.953\n",
       "b_f    0.497  0.500    -0.350      1.256\n",
       "sigma  0.466  0.066     0.359      0.568"
      ]
     },
     "execution_count": 90,
     "metadata": {},
     "output_type": "execute_result"
    }
   ],
   "source": [
    "df = pd.read_csv(\n",
    "    \"Data/foxes.csv\", \n",
    "    sep=',',  \n",
    "    header=0\n",
    ")\n",
    "# df.head()\n",
    "# prior predictive simulation\n",
    "a_std = standardize(df.area)\n",
    "f_std = standardize(df.avgfood)\n",
    "\n",
    "with pm.Model() as m_AF:\n",
    "    a = pm.Normal(\"a\", 1, 1)  \n",
    "    b_a = pm.Normal(\"b_a\", 1, 0.5)\n",
    "    b_f = pm.Normal(\"b_f\", 0.5, 0.5)\n",
    "    mu = pm.Deterministic(\"mu\", a + b_a * a_std)\n",
    "    \n",
    "    sigma = pm.Exponential(\"sigma\", 1)\n",
    "    div = pm.Normal(\"div\", mu, sigma, observed=f_std)\n",
    "    \n",
    "    idata_AF, _ = quap([a, b_a, b_f, sigma])\n",
    "    \n",
    "az.summary(idata_AF, kind=\"stats\")"
   ]
  },
  {
   "cell_type": "markdown",
   "metadata": {},
   "source": [
    "Prior distributions are set to a mean and standard deviation of 1 and 1 respectively for \"a\" which represents area, because the possibility of the mean amount of food being 0 is unlikely -- a mean of 1 is reasonable and a mean of 2 would be too high. The slope mean and standard deviation for area is 1 and 0.5 respectively because it would be reasonable to assume an area can range from +/- 1.5. For food, the slope of amounts could have a mean and deviation of 0.5 and 0.5 respectively "
   ]
  },
  {
   "cell_type": "markdown",
   "metadata": {
    "deletable": false,
    "editable": false
   },
   "source": [
    "<!-- END QUESTION -->\n",
    "\n",
    "<!-- BEGIN QUESTION -->\n",
    "\n",
    "**Answer the following question based on the results of your model:** \n",
    "\n",
    "What effect would increasing the area of a territory have on the amount of food inside it? **Limit your answer to no more than 2 sentences.**"
   ]
  },
  {
   "cell_type": "markdown",
   "metadata": {},
   "source": [
    "As the size of the area increases, the amount of food within it also increases. The mean value of food is 0.884 which is between the 89% HPDI, this is also the same for the mean amount of area."
   ]
  },
  {
   "cell_type": "markdown",
   "metadata": {
    "deletable": false,
    "editable": false
   },
   "source": [
    "<!-- END QUESTION -->\n",
    "\n",
    "<!-- BEGIN QUESTION -->\n",
    "\n",
    "**Question 3 (17 points)**. In this question, you will estimate **the total and direct causal effects** of adding food ($F$) to a territory on the weight ($W$) of foxes. \n",
    "\n",
    "Which model variables do you need to adjust for in each case? \n",
    "\n",
    "**Make sure to explicitly state the adjustment sets needed for properly estimating the effects.** *Hint: The backdoor criterion only includes variables in the adjustment set that need to be included in the model to close backdoors into your treatment variable. Variables may need to be included in your adjustment set to properly estimate a causal effect even when the variable is not part of a backdoor path.*"
   ]
  },
  {
   "cell_type": "markdown",
   "metadata": {},
   "source": [
    "Adjustment set for total causal effect: {A}\n",
    "Adjustment set for direct causal effect: {A, G}\n",
    "For the purposes of measuring F -> W in the situation of total causal effect, we will leave G out of the model. If it were in the model that would mean we are attributing some of the effects of G into W while we are measuring F into W. By leaving G out we are isolating the effects of G from F -> W. By backdoor criterion, A is leading into F and we should stratify by A. For direct causal effect, G will be adjusted in the model to account for influence by G into W. A is also adjusted since it is a backdoor path into F. "
   ]
  },
  {
   "cell_type": "markdown",
   "metadata": {
    "deletable": false,
    "editable": false
   },
   "source": [
    "Estimate **the total causal effect** of adding food ($F$) to a territory on the weight ($W$) of foxes. Communicate this effect using a summary table or visualization/plot of the posterior estimate."
   ]
  },
  {
   "cell_type": "code",
   "execution_count": 91,
   "metadata": {
    "tags": []
   },
   "outputs": [
    {
     "data": {
      "text/html": [
       "\n",
       "<style>\n",
       "    /* Turns off some styling */\n",
       "    progress {\n",
       "        /* gets rid of default border in Firefox and Opera. */\n",
       "        border: none;\n",
       "        /* Needs to be in here for Safari polyfill so background images work as expected. */\n",
       "        background-size: auto;\n",
       "    }\n",
       "    progress:not([value]), progress:not([value])::-webkit-progress-bar {\n",
       "        background: repeating-linear-gradient(45deg, #7e7e7e, #7e7e7e 10px, #5c5c5c 10px, #5c5c5c 20px);\n",
       "    }\n",
       "    .progress-bar-interrupted, .progress-bar-interrupted::-webkit-progress-bar {\n",
       "        background: #F44336;\n",
       "    }\n",
       "</style>\n"
      ],
      "text/plain": [
       "<IPython.core.display.HTML object>"
      ]
     },
     "metadata": {},
     "output_type": "display_data"
    },
    {
     "data": {
      "text/html": [
       "\n",
       "    <div>\n",
       "      <progress value='12' class='' max='12' style='width:300px; height:20px; vertical-align: middle;'></progress>\n",
       "      100.00% [12/12 00:00&lt;00:00 logp = -178.81, ||grad|| = 0.00058339]\n",
       "    </div>\n",
       "    "
      ],
      "text/plain": [
       "<IPython.core.display.HTML object>"
      ]
     },
     "metadata": {},
     "output_type": "display_data"
    },
    {
     "name": "stdout",
     "output_type": "stream",
     "text": [
      "\n"
     ]
    },
    {
     "data": {
      "text/html": [
       "<div>\n",
       "<style scoped>\n",
       "    .dataframe tbody tr th:only-of-type {\n",
       "        vertical-align: middle;\n",
       "    }\n",
       "\n",
       "    .dataframe tbody tr th {\n",
       "        vertical-align: top;\n",
       "    }\n",
       "\n",
       "    .dataframe thead th {\n",
       "        text-align: right;\n",
       "    }\n",
       "</style>\n",
       "<table border=\"1\" class=\"dataframe\">\n",
       "  <thead>\n",
       "    <tr style=\"text-align: right;\">\n",
       "      <th></th>\n",
       "      <th>mean</th>\n",
       "      <th>sd</th>\n",
       "      <th>hdi_5.5%</th>\n",
       "      <th>hdi_94.5%</th>\n",
       "    </tr>\n",
       "  </thead>\n",
       "  <tbody>\n",
       "    <tr>\n",
       "      <th>f</th>\n",
       "      <td>0.010</td>\n",
       "      <td>0.099</td>\n",
       "      <td>-0.144</td>\n",
       "      <td>0.169</td>\n",
       "    </tr>\n",
       "    <tr>\n",
       "      <th>b_f</th>\n",
       "      <td>-0.858</td>\n",
       "      <td>0.097</td>\n",
       "      <td>-1.018</td>\n",
       "      <td>-0.710</td>\n",
       "    </tr>\n",
       "    <tr>\n",
       "      <th>b_w</th>\n",
       "      <td>0.508</td>\n",
       "      <td>0.704</td>\n",
       "      <td>-0.605</td>\n",
       "      <td>1.635</td>\n",
       "    </tr>\n",
       "    <tr>\n",
       "      <th>sigma</th>\n",
       "      <td>1.058</td>\n",
       "      <td>0.065</td>\n",
       "      <td>0.950</td>\n",
       "      <td>1.158</td>\n",
       "    </tr>\n",
       "  </tbody>\n",
       "</table>\n",
       "</div>"
      ],
      "text/plain": [
       "        mean     sd  hdi_5.5%  hdi_94.5%\n",
       "f      0.010  0.099    -0.144      0.169\n",
       "b_f   -0.858  0.097    -1.018     -0.710\n",
       "b_w    0.508  0.704    -0.605      1.635\n",
       "sigma  1.058  0.065     0.950      1.158"
      ]
     },
     "execution_count": 91,
     "metadata": {},
     "output_type": "execute_result"
    }
   ],
   "source": [
    "# Total causal effect: Need to leave G out of the model, stratify by A because of backdoor criterion for total causal effect.\n",
    "df = pd.read_csv(\n",
    "    \"Data/foxes.csv\", \n",
    "    sep=',',  \n",
    "    header=0\n",
    ")\n",
    "# df.head()\n",
    "\n",
    "# prior predictive simulation\n",
    "f_std = standardize(df.avgfood)\n",
    "w_std = standardize(df.weight)\n",
    "a_std = standardize(df.area) # Backdoor criterion \"a\"\n",
    "with pm.Model() as m_FWA:\n",
    "    f = pm.Normal(\"f\", 1, 1)\n",
    "    b_f = pm.Normal(\"b_f\", 0.5, 0.5)\n",
    "    b_w = pm.Normal(\"b_w\", 0.5, 0.7)\n",
    "    b_a = pm.Normal(\"b_a\", 1, 0.5)\n",
    "    mu = pm.Deterministic(\"mu\", f + b_f * f_std + b_a * a_std)\n",
    "    \n",
    "    sigma = pm.Exponential(\"sigma\", 1)\n",
    "    div = pm.Normal(\"div\", mu, sigma, observed=w_std)\n",
    "    \n",
    "    idata_FWA, _ = quap([f, b_f, b_w, sigma])\n",
    "    \n",
    "az.summary(idata_FWA, kind=\"stats\")"
   ]
  },
  {
   "cell_type": "markdown",
   "metadata": {
    "deletable": false,
    "editable": false
   },
   "source": [
    "Estimate **the direct causal effect** of adding food ($F$) to a territory on the weight ($W$) of foxes. Communicate this effect using a summary table or visualization/plot of the posterior distribution."
   ]
  },
  {
   "cell_type": "code",
   "execution_count": 92,
   "metadata": {},
   "outputs": [
    {
     "data": {
      "text/html": [
       "\n",
       "<style>\n",
       "    /* Turns off some styling */\n",
       "    progress {\n",
       "        /* gets rid of default border in Firefox and Opera. */\n",
       "        border: none;\n",
       "        /* Needs to be in here for Safari polyfill so background images work as expected. */\n",
       "        background-size: auto;\n",
       "    }\n",
       "    progress:not([value]), progress:not([value])::-webkit-progress-bar {\n",
       "        background: repeating-linear-gradient(45deg, #7e7e7e, #7e7e7e 10px, #5c5c5c 10px, #5c5c5c 20px);\n",
       "    }\n",
       "    .progress-bar-interrupted, .progress-bar-interrupted::-webkit-progress-bar {\n",
       "        background: #F44336;\n",
       "    }\n",
       "</style>\n"
      ],
      "text/plain": [
       "<IPython.core.display.HTML object>"
      ]
     },
     "metadata": {},
     "output_type": "display_data"
    },
    {
     "data": {
      "text/html": [
       "\n",
       "    <div>\n",
       "      <progress value='14' class='' max='14' style='width:300px; height:20px; vertical-align: middle;'></progress>\n",
       "      100.00% [14/14 00:00&lt;00:00 logp = -181.27, ||grad|| = 0.16244]\n",
       "    </div>\n",
       "    "
      ],
      "text/plain": [
       "<IPython.core.display.HTML object>"
      ]
     },
     "metadata": {},
     "output_type": "display_data"
    },
    {
     "name": "stdout",
     "output_type": "stream",
     "text": [
      "\n"
     ]
    },
    {
     "data": {
      "text/html": [
       "<div>\n",
       "<style scoped>\n",
       "    .dataframe tbody tr th:only-of-type {\n",
       "        vertical-align: middle;\n",
       "    }\n",
       "\n",
       "    .dataframe tbody tr th {\n",
       "        vertical-align: top;\n",
       "    }\n",
       "\n",
       "    .dataframe thead th {\n",
       "        text-align: right;\n",
       "    }\n",
       "</style>\n",
       "<table border=\"1\" class=\"dataframe\">\n",
       "  <thead>\n",
       "    <tr style=\"text-align: right;\">\n",
       "      <th></th>\n",
       "      <th>mean</th>\n",
       "      <th>sd</th>\n",
       "      <th>hdi_5.5%</th>\n",
       "      <th>hdi_94.5%</th>\n",
       "    </tr>\n",
       "  </thead>\n",
       "  <tbody>\n",
       "    <tr>\n",
       "      <th>f</th>\n",
       "      <td>0.010</td>\n",
       "      <td>0.101</td>\n",
       "      <td>-0.157</td>\n",
       "      <td>0.165</td>\n",
       "    </tr>\n",
       "    <tr>\n",
       "      <th>b_f</th>\n",
       "      <td>-0.409</td>\n",
       "      <td>0.097</td>\n",
       "      <td>-0.564</td>\n",
       "      <td>-0.254</td>\n",
       "    </tr>\n",
       "    <tr>\n",
       "      <th>b_w</th>\n",
       "      <td>0.502</td>\n",
       "      <td>0.699</td>\n",
       "      <td>-0.613</td>\n",
       "      <td>1.627</td>\n",
       "    </tr>\n",
       "    <tr>\n",
       "      <th>sigma</th>\n",
       "      <td>1.080</td>\n",
       "      <td>0.066</td>\n",
       "      <td>0.973</td>\n",
       "      <td>1.183</td>\n",
       "    </tr>\n",
       "  </tbody>\n",
       "</table>\n",
       "</div>"
      ],
      "text/plain": [
       "        mean     sd  hdi_5.5%  hdi_94.5%\n",
       "f      0.010  0.101    -0.157      0.165\n",
       "b_f   -0.409  0.097    -0.564     -0.254\n",
       "b_w    0.502  0.699    -0.613      1.627\n",
       "sigma  1.080  0.066     0.973      1.183"
      ]
     },
     "execution_count": 92,
     "metadata": {},
     "output_type": "execute_result"
    }
   ],
   "source": [
    "# Direct causal effect: Stratify by G to measure direct causal effect between F -> W\n",
    "df = pd.read_csv(\n",
    "    \"Data/foxes.csv\", \n",
    "    sep=',',  \n",
    "    header=0\n",
    ")\n",
    "# df.head()\n",
    "\n",
    "# prior predictive simulation\n",
    "f_std = standardize(df.avgfood)\n",
    "w_std = standardize(df.weight)\n",
    "g_std = standardize(df.groupsize)\n",
    "with pm.Model() as m_FWG:\n",
    "    f = pm.Normal(\"f\", 1, 1)\n",
    "    b_f = pm.Normal(\"b_f\", 0.65, 0.4)\n",
    "    b_w = pm.Normal(\"b_w\", 0.5, 0.7)\n",
    "    b_g = pm.Normal(\"b_g\", 0.5, 0.7)\n",
    "    mu = pm.Deterministic(\"mu\", f + b_f * f_std + b_g * g_std)\n",
    "    \n",
    "    sigma = pm.Exponential(\"sigma\", 1)\n",
    "    div = pm.Normal(\"div\", mu, sigma, observed=w_std)\n",
    "    \n",
    "    idata_FWG, _ = quap([f, b_f, b_w, sigma])\n",
    "    \n",
    "az.summary(idata_FWG, kind=\"stats\")"
   ]
  },
  {
   "cell_type": "markdown",
   "metadata": {
    "deletable": false,
    "editable": false
   },
   "source": [
    "<!-- END QUESTION -->\n",
    "\n",
    "<!-- BEGIN QUESTION -->\n",
    "\n",
    "**Question 4 (10 points)**. To estimate the the causal effect of group size ($G$) on weight ($W$), which variables do you need to adjust for? **Explicitly state the adjustment set needed for properly estimating the effect.**"
   ]
  },
  {
   "cell_type": "markdown",
   "metadata": {},
   "source": [
    "We need to adjust for variable F because it is leading into G when we are trying to estimate G -> W. We don't need to consider A because although A -> F, our adjustment to F will account for influence from A.\n",
    "Adjustment set: {F}"
   ]
  },
  {
   "cell_type": "markdown",
   "metadata": {
    "deletable": false,
    "editable": false
   },
   "source": [
    "<!-- END QUESTION -->\n",
    "\n",
    "<!-- BEGIN QUESTION -->\n",
    "\n",
    "Estimate the causal effect of group size (G) on weight (W). Express this effect using a summary table or plot/visualization of the posterior distribution."
   ]
  },
  {
   "cell_type": "code",
   "execution_count": 93,
   "metadata": {
    "tags": []
   },
   "outputs": [
    {
     "data": {
      "text/html": [
       "\n",
       "<style>\n",
       "    /* Turns off some styling */\n",
       "    progress {\n",
       "        /* gets rid of default border in Firefox and Opera. */\n",
       "        border: none;\n",
       "        /* Needs to be in here for Safari polyfill so background images work as expected. */\n",
       "        background-size: auto;\n",
       "    }\n",
       "    progress:not([value]), progress:not([value])::-webkit-progress-bar {\n",
       "        background: repeating-linear-gradient(45deg, #7e7e7e, #7e7e7e 10px, #5c5c5c 10px, #5c5c5c 20px);\n",
       "    }\n",
       "    .progress-bar-interrupted, .progress-bar-interrupted::-webkit-progress-bar {\n",
       "        background: #F44336;\n",
       "    }\n",
       "</style>\n"
      ],
      "text/plain": [
       "<IPython.core.display.HTML object>"
      ]
     },
     "metadata": {},
     "output_type": "display_data"
    },
    {
     "data": {
      "text/html": [
       "\n",
       "    <div>\n",
       "      <progress value='13' class='' max='13' style='width:300px; height:20px; vertical-align: middle;'></progress>\n",
       "      100.00% [13/13 00:00&lt;00:00 logp = -162.99, ||grad|| = 0.025358]\n",
       "    </div>\n",
       "    "
      ],
      "text/plain": [
       "<IPython.core.display.HTML object>"
      ]
     },
     "metadata": {},
     "output_type": "display_data"
    },
    {
     "name": "stdout",
     "output_type": "stream",
     "text": [
      "\n"
     ]
    },
    {
     "data": {
      "text/html": [
       "<div>\n",
       "<style scoped>\n",
       "    .dataframe tbody tr th:only-of-type {\n",
       "        vertical-align: middle;\n",
       "    }\n",
       "\n",
       "    .dataframe tbody tr th {\n",
       "        vertical-align: top;\n",
       "    }\n",
       "\n",
       "    .dataframe thead th {\n",
       "        text-align: right;\n",
       "    }\n",
       "</style>\n",
       "<table border=\"1\" class=\"dataframe\">\n",
       "  <thead>\n",
       "    <tr style=\"text-align: right;\">\n",
       "      <th></th>\n",
       "      <th>mean</th>\n",
       "      <th>sd</th>\n",
       "      <th>hdi_5.5%</th>\n",
       "      <th>hdi_94.5%</th>\n",
       "    </tr>\n",
       "  </thead>\n",
       "  <tbody>\n",
       "    <tr>\n",
       "      <th>g</th>\n",
       "      <td>0.008</td>\n",
       "      <td>0.087</td>\n",
       "      <td>-0.134</td>\n",
       "      <td>0.144</td>\n",
       "    </tr>\n",
       "    <tr>\n",
       "      <th>b_g</th>\n",
       "      <td>-0.594</td>\n",
       "      <td>0.086</td>\n",
       "      <td>-0.732</td>\n",
       "      <td>-0.458</td>\n",
       "    </tr>\n",
       "    <tr>\n",
       "      <th>b_w</th>\n",
       "      <td>0.503</td>\n",
       "      <td>0.703</td>\n",
       "      <td>-0.559</td>\n",
       "      <td>1.686</td>\n",
       "    </tr>\n",
       "    <tr>\n",
       "      <th>sigma</th>\n",
       "      <td>0.941</td>\n",
       "      <td>0.065</td>\n",
       "      <td>0.835</td>\n",
       "      <td>1.043</td>\n",
       "    </tr>\n",
       "  </tbody>\n",
       "</table>\n",
       "</div>"
      ],
      "text/plain": [
       "        mean     sd  hdi_5.5%  hdi_94.5%\n",
       "g      0.008  0.087    -0.134      0.144\n",
       "b_g   -0.594  0.086    -0.732     -0.458\n",
       "b_w    0.503  0.703    -0.559      1.686\n",
       "sigma  0.941  0.065     0.835      1.043"
      ]
     },
     "execution_count": 93,
     "metadata": {},
     "output_type": "execute_result"
    }
   ],
   "source": [
    "# Causal effect: Stratify by F to estimate G -> W\n",
    "df = pd.read_csv(\n",
    "    \"Data/foxes.csv\", \n",
    "    sep=',',  \n",
    "    header=0\n",
    ")\n",
    "# df.head()\n",
    "\n",
    "# prior predictive simulation\n",
    "g_std = standardize(df.groupsize)\n",
    "w_std = standardize(df.weight)\n",
    "f_std = standardize(df.avgfood) # Backdoor criterion \"f\"\n",
    "with pm.Model() as m_GWF:\n",
    "    g = pm.Normal(\"g\", 1, 1)  # Group size mean set to 1 fox\n",
    "    b_g = pm.Normal(\"b_g\", 0.5, 0.7)\n",
    "    b_w = pm.Normal(\"b_w\", 0.5, 0.7)\n",
    "    b_f = pm.Normal(\"b_f\", 0.5, 0.5)\n",
    "    mu = pm.Deterministic(\"mu\", g + b_g * g_std + b_f * f_std)\n",
    "    \n",
    "    sigma = pm.Exponential(\"sigma\", 1)\n",
    "    div = pm.Normal(\"div\", mu, sigma, observed=w_std)\n",
    "    \n",
    "    idata_GWF, _ = quap([g, b_g, b_w, sigma])\n",
    "    \n",
    "az.summary(idata_GWF, kind=\"stats\")"
   ]
  },
  {
   "cell_type": "markdown",
   "metadata": {},
   "source": [
    "As the group size decreases, weights of the foxes are increasing. Likewise, if the size of the group increases, foxes weigh less which could indicate they are eating less food as a group. "
   ]
  },
  {
   "cell_type": "markdown",
   "metadata": {
    "deletable": false,
    "editable": false
   },
   "source": [
    "<!-- END QUESTION -->\n",
    "\n",
    "<!-- BEGIN QUESTION -->\n",
    "\n",
    "In light of your estimates from Questions 2 - 4, what do you think is going on with these foxes? Feel free to speculate — **all that matters is that you justify your speculation. Limit your response to 6 sentences.**"
   ]
  },
  {
   "cell_type": "markdown",
   "metadata": {},
   "source": [
    "As area size increases, the amount of food increases. However, as the group size increases, the weight of the foxes decrease. This could indicate that the distribution of food these foxes are consuming leave them in a deficit. There could be some competition occurring between foxes within the same group. "
   ]
  },
  {
   "cell_type": "code",
   "execution_count": 94,
   "metadata": {
    "deletable": false,
    "editable": false
   },
   "outputs": [
    {
     "data": {
      "text/html": [
       "<p><strong><pre style='display: inline;'>q4.3</pre></strong> passed! ✨</p>"
      ],
      "text/plain": [
       "q4.3 results: All test cases passed!"
      ]
     },
     "execution_count": 94,
     "metadata": {},
     "output_type": "execute_result"
    }
   ],
   "source": [
    "grader.check(\"q4.3\")"
   ]
  },
  {
   "cell_type": "markdown",
   "metadata": {
    "deletable": false,
    "editable": false
   },
   "source": [
    "<!-- END QUESTION -->\n",
    "\n"
   ]
  },
  {
   "cell_type": "markdown",
   "metadata": {
    "deletable": false,
    "editable": false
   },
   "source": [
    "## Submission\n",
    "\n",
    "Make sure you have run all cells in your notebook in order before running the cell below, so that all images/graphs appear in the output. The cell below will generate a zip file for you to submit. **Please save before exporting!**\n",
    "\n",
    "Before attempting to export your work for submission follow this process: First, make sure you have run all cells in your notebook **in order**. Then, **save your notebook**. Finally, run the export cell below. This sequence of actions will ensure that all code/output/plots appear in the generated PDF. **Only the PDF** will be evaluated for grading purposes.  When executed, the cell below will generate a zip file for you to submit."
   ]
  },
  {
   "cell_type": "code",
   "execution_count": 95,
   "metadata": {
    "deletable": false,
    "editable": false
   },
   "outputs": [
    {
     "name": "stdout",
     "output_type": "stream",
     "text": [
      "Running your submission against local test cases...\n",
      "\n",
      "\n",
      "Your submission received the following results when run against available test cases:\n",
      "\n",
      "    q4.3 results: All test cases passed!\n"
     ]
    },
    {
     "data": {
      "text/html": [
       "\n",
       "                    <p>\n",
       "                        Your submission has been exported. Click\n",
       "                        <a href=\"hw3_2025_02_27T22_13_48_945052.zip\" download=\"hw3_2025_02_27T22_13_48_945052.zip\" target=\"_blank\">here</a> to download\n",
       "                        the zip file.\n",
       "                    </p>\n",
       "                "
      ],
      "text/plain": [
       "<IPython.core.display.HTML object>"
      ]
     },
     "metadata": {},
     "output_type": "display_data"
    }
   ],
   "source": [
    "# Save your notebook first, then run this cell to export your submission.\n",
    "grader.export(run_tests=True, files=['dags.png', 'fox_dag.png'])"
   ]
  },
  {
   "cell_type": "markdown",
   "metadata": {},
   "source": [
    " "
   ]
  }
 ],
 "metadata": {
  "kernelspec": {
   "display_name": "Python [conda env:fnds]",
   "language": "python",
   "name": "conda-env-fnds-py"
  },
  "language_info": {
   "codemirror_mode": {
    "name": "ipython",
    "version": 3
   },
   "file_extension": ".py",
   "mimetype": "text/x-python",
   "name": "python",
   "nbconvert_exporter": "python",
   "pygments_lexer": "ipython3",
   "version": "3.9.21"
  },
  "otter": {
   "OK_FORMAT": true,
   "assignment_name": "hw3",
   "tests": {
    "q4.3": {
     "name": "q4.3",
     "points": 10,
     "suites": [
      {
       "cases": [],
       "scored": true,
       "setup": "",
       "teardown": "",
       "type": "doctest"
      }
     ]
    }
   }
  }
 },
 "nbformat": 4,
 "nbformat_minor": 4
}
