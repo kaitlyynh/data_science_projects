{
 "cells": [
  {
   "cell_type": "code",
   "execution_count": 191,
   "metadata": {
    "deletable": false,
    "editable": false
   },
   "outputs": [],
   "source": [
    "# Initialize Otter\n",
    "import otter\n",
    "grader = otter.Notebook(\"hw5.ipynb\")"
   ]
  },
  {
   "cell_type": "markdown",
   "metadata": {},
   "source": [
    "## Homework #5"
   ]
  },
  {
   "cell_type": "markdown",
   "metadata": {},
   "source": [
    "*Please edit the cell below to add your full name (first and last) and the full names of any group members that you collaborated with on this assignment.* "
   ]
  },
  {
   "cell_type": "markdown",
   "metadata": {},
   "source": [
    "Name:   Kaitlyn Huynh\n",
    "Group Members:   \n",
    "***"
   ]
  },
  {
   "cell_type": "code",
   "execution_count": 192,
   "metadata": {},
   "outputs": [],
   "source": [
    "# Set random seed and ensure plots are displayed in the notebook\n",
    "import numpy as np\n",
    "import arviz as az\n",
    "import pandas as pd\n",
    "import networkx as nx\n",
    "import matplotlib.pyplot as plt\n",
    "import pymc as pm\n",
    "from scipy.special import expit as logistic\n",
    "rnd_seed = 42\n",
    "np.random.seed(rnd_seed)\n",
    "%matplotlib inline\n",
    "\n",
    "%config Inline.figure_format = 'retina'\n",
    "az.rcParams[\"stats.hdi_prob\"] = 0.89  # sets default credible interval used by arviz"
   ]
  },
  {
   "cell_type": "markdown",
   "metadata": {
    "deletable": false,
    "editable": false
   },
   "source": [
    "<!-- BEGIN QUESTION -->\n",
    "\n",
    "**Question 1**. **(20 points)** The data in *Data/NWOGrants.csv* are outcomes for scientific funding applications for the Netherlands Organization for Scientific Research (NWO) from 2010–2012 (see [van der Lee and Ellemers](https://doi.org/10.1073/pnas.1510159112)).\n",
    "\n",
    " These data have a very similar structure to the UC Berkeley Admissions data discussed in lecture. "
   ]
  },
  {
   "cell_type": "markdown",
   "metadata": {
    "deletable": false,
    "editable": false
   },
   "source": [
    "* Include an image of a directed acyclic graph (DAG) for this data that represents the relationship between the variables.  **Clearly describe what the nodes in your graph represent**. **Do not include the number of applications** in your DAG or as a predictor in your linear model. \n",
    "\n",
    "    **Note** : *Refer to **dag_tutorial.ipynb** for instructions on how to include a DAG in your Jupyter notebook using Python.*"
   ]
  },
  {
   "cell_type": "code",
   "execution_count": 193,
   "metadata": {
    "tags": []
   },
   "outputs": [
    {
     "data": {
      "image/png": "[encoded data removed]",
      "text/plain": [
       "<Figure size 640x480 with 1 Axes>"
      ]
     },
     "metadata": {},
     "output_type": "display_data"
    }
   ],
   "source": [
    "graph = nx.DiGraph()\n",
    "graph.add_edges_from([(\"G\", \"D\"), (\"D\", \"A\"), (\"G\", \"A\")])\n",
    "nx.draw_networkx(graph, arrows=True)\n",
    "plt.tight_layout()"
   ]
  },
  {
   "cell_type": "markdown",
   "metadata": {},
   "source": [
    "There are 3 nodes, \"G\" for the gender of an individual, \"A\" for the number of awards an individual gets, and \"D\" for the discipline the individual is in. G influences A because it is possible that one gender was awarded more than the other based on historical practices. G influences D because it is possible that certain genders tend to favor specific disciplines. D influences A because it is likely that certain disciplines provide varying amounts of opportunity and potential to win awards."
   ]
  },
  {
   "cell_type": "markdown",
   "metadata": {
    "deletable": false,
    "editable": false
   },
   "source": [
    "Use a Binomial GLM to estimate the TOTAL causal effect of reported gender on grant awards. \n",
    "\n",
    "Notes:  \n",
    "- You **must provide justification** for the prior distributions used in your model to receive full credit. **Limit your justification to no more than 5 sentences.**\n",
    "- You can also use logistic regression for your solution but this will require disaggregating the data."
   ]
  },
  {
   "cell_type": "code",
   "execution_count": 194,
   "metadata": {
    "tags": []
   },
   "outputs": [
    {
     "name": "stderr",
     "output_type": "stream",
     "text": [
      "Auto-assigning NUTS sampler...\n",
      "Initializing NUTS using jitter+adapt_diag...\n",
      "Sequential sampling (2 chains in 1 job)\n",
      "NUTS: [alpha]\n"
     ]
    },
    {
     "data": {
      "text/html": [
       "\n",
       "<style>\n",
       "    /* Turns off some styling */\n",
       "    progress {\n",
       "        /* gets rid of default border in Firefox and Opera. */\n",
       "        border: none;\n",
       "        /* Needs to be in here for Safari polyfill so background images work as expected. */\n",
       "        background-size: auto;\n",
       "    }\n",
       "    progress:not([value]), progress:not([value])::-webkit-progress-bar {\n",
       "        background: repeating-linear-gradient(45deg, #7e7e7e, #7e7e7e 10px, #5c5c5c 10px, #5c5c5c 20px);\n",
       "    }\n",
       "    .progress-bar-interrupted, .progress-bar-interrupted::-webkit-progress-bar {\n",
       "        background: #F44336;\n",
       "    }\n",
       "</style>\n"
      ],
      "text/plain": [
       "<IPython.core.display.HTML object>"
      ]
     },
     "metadata": {},
     "output_type": "display_data"
    },
    {
     "data": {
      "text/html": [
       "\n",
       "    <div>\n",
       "      <progress value='2000' class='' max='2000' style='width:300px; height:20px; vertical-align: middle;'></progress>\n",
       "      100.00% [2000/2000 00:02&lt;00:00 Sampling chain 0, 0 divergences]\n",
       "    </div>\n",
       "    "
      ],
      "text/plain": [
       "<IPython.core.display.HTML object>"
      ]
     },
     "metadata": {},
     "output_type": "display_data"
    },
    {
     "data": {
      "text/html": [
       "\n",
       "<style>\n",
       "    /* Turns off some styling */\n",
       "    progress {\n",
       "        /* gets rid of default border in Firefox and Opera. */\n",
       "        border: none;\n",
       "        /* Needs to be in here for Safari polyfill so background images work as expected. */\n",
       "        background-size: auto;\n",
       "    }\n",
       "    progress:not([value]), progress:not([value])::-webkit-progress-bar {\n",
       "        background: repeating-linear-gradient(45deg, #7e7e7e, #7e7e7e 10px, #5c5c5c 10px, #5c5c5c 20px);\n",
       "    }\n",
       "    .progress-bar-interrupted, .progress-bar-interrupted::-webkit-progress-bar {\n",
       "        background: #F44336;\n",
       "    }\n",
       "</style>\n"
      ],
      "text/plain": [
       "<IPython.core.display.HTML object>"
      ]
     },
     "metadata": {},
     "output_type": "display_data"
    },
    {
     "data": {
      "text/html": [
       "\n",
       "    <div>\n",
       "      <progress value='2000' class='' max='2000' style='width:300px; height:20px; vertical-align: middle;'></progress>\n",
       "      100.00% [2000/2000 00:03&lt;00:00 Sampling chain 1, 0 divergences]\n",
       "    </div>\n",
       "    "
      ],
      "text/plain": [
       "<IPython.core.display.HTML object>"
      ]
     },
     "metadata": {},
     "output_type": "display_data"
    },
    {
     "name": "stderr",
     "output_type": "stream",
     "text": [
      "Sampling 2 chains for 1_000 tune and 1_000 draw iterations (2_000 + 2_000 draws total) took 6 seconds.\n",
      "We recommend running at least 4 chains for robust computation of convergence diagnostics\n"
     ]
    },
    {
     "data": {
      "text/html": [
       "<div>\n",
       "<style scoped>\n",
       "    .dataframe tbody tr th:only-of-type {\n",
       "        vertical-align: middle;\n",
       "    }\n",
       "\n",
       "    .dataframe tbody tr th {\n",
       "        vertical-align: top;\n",
       "    }\n",
       "\n",
       "    .dataframe thead th {\n",
       "        text-align: right;\n",
       "    }\n",
       "</style>\n",
       "<table border=\"1\" class=\"dataframe\">\n",
       "  <thead>\n",
       "    <tr style=\"text-align: right;\">\n",
       "      <th></th>\n",
       "      <th>mean</th>\n",
       "      <th>sd</th>\n",
       "      <th>hdi_5.5%</th>\n",
       "      <th>hdi_94.5%</th>\n",
       "      <th>mcse_mean</th>\n",
       "      <th>mcse_sd</th>\n",
       "      <th>ess_bulk</th>\n",
       "      <th>ess_tail</th>\n",
       "      <th>r_hat</th>\n",
       "    </tr>\n",
       "  </thead>\n",
       "  <tbody>\n",
       "    <tr>\n",
       "      <th>alpha[0]</th>\n",
       "      <td>-1.732</td>\n",
       "      <td>0.081</td>\n",
       "      <td>-1.851</td>\n",
       "      <td>-1.593</td>\n",
       "      <td>0.002</td>\n",
       "      <td>0.001</td>\n",
       "      <td>1904.0</td>\n",
       "      <td>1462.0</td>\n",
       "      <td>1.0</td>\n",
       "    </tr>\n",
       "    <tr>\n",
       "      <th>alpha[1]</th>\n",
       "      <td>-1.527</td>\n",
       "      <td>0.065</td>\n",
       "      <td>-1.633</td>\n",
       "      <td>-1.423</td>\n",
       "      <td>0.002</td>\n",
       "      <td>0.001</td>\n",
       "      <td>1694.0</td>\n",
       "      <td>1507.0</td>\n",
       "      <td>1.0</td>\n",
       "    </tr>\n",
       "  </tbody>\n",
       "</table>\n",
       "</div>"
      ],
      "text/plain": [
       "           mean     sd  hdi_5.5%  hdi_94.5%  mcse_mean  mcse_sd  ess_bulk  \\\n",
       "alpha[0] -1.732  0.081    -1.851     -1.593      0.002    0.001    1904.0   \n",
       "alpha[1] -1.527  0.065    -1.633     -1.423      0.002    0.001    1694.0   \n",
       "\n",
       "          ess_tail  r_hat  \n",
       "alpha[0]    1462.0    1.0  \n",
       "alpha[1]    1507.0    1.0  "
      ]
     },
     "execution_count": 194,
     "metadata": {},
     "output_type": "execute_result"
    }
   ],
   "source": [
    "df = pd.read_csv(\"Data/NWOGrants.csv\", header=0)\n",
    "A = df.awards\n",
    "N = df.applications\n",
    "G = np.where(df.gender == \"f\", 0, 1) # gender\n",
    "D = pd.Categorical(df.discipline).codes\n",
    "\n",
    "with pm.Model() as m_GA_total:\n",
    "    alpha = pm.Normal(\"alpha\", 0, 1, shape=2)\n",
    "    p = pm.Deterministic(\"p\", pm.math.invlogit(alpha[G])) \n",
    "    modA = pm.Binomial(\"A\", n=N, p=p, observed=A) \n",
    "    idata_GA_total = pm.sample()\n",
    "az.summary(idata_GA_total, var_names=[\"~p\"], kind=\"all\")"
   ]
  },
  {
   "cell_type": "markdown",
   "metadata": {},
   "source": [
    "\"alpha\" has a mean of 0 and standard deviation of 1 to reflect that there are no major initial effects from G on A. The gender value is transformed into a probability using logit. "
   ]
  },
  {
   "cell_type": "markdown",
   "metadata": {
    "deletable": false,
    "editable": false
   },
   "source": [
    "<!-- END QUESTION -->\n",
    "\n",
    "<!-- BEGIN QUESTION -->\n",
    "\n",
    "Provide a gender contrast plot and a written interpretation of the plot. **Limit your interpretation of the plot to no more than 3 sentences.**"
   ]
  },
  {
   "cell_type": "code",
   "execution_count": 195,
   "metadata": {
    "tags": []
   },
   "outputs": [
    {
     "name": "stderr",
     "output_type": "stream",
     "text": [
      "/tmp/ipykernel_1140/2360435162.py:1: FutureWarning: extract_dataset has been deprecated, please use extract\n",
      "  post1 = az.extract_dataset(idata_GA_total)\n"
     ]
    },
    {
     "data": {
      "image/png": "[encoded data removed]",
      "text/plain": [
       "<Figure size 640x480 with 1 Axes>"
      ]
     },
     "metadata": {},
     "output_type": "display_data"
    }
   ],
   "source": [
    "post1 = az.extract_dataset(idata_GA_total) \n",
    "probA_G0 = logistic(post1.alpha[0]) # female\n",
    "probA_G1 = logistic(post1.alpha[1]) # male\n",
    "diff_prob = probA_G0 - probA_G1 # female - male\n",
    "\n",
    "sns.kdeplot(diff_prob, color=\"#e06666\")\n",
    "plt.xlabel(\"Gender contrast (probability)\")\n",
    "sns.despine()"
   ]
  },
  {
   "cell_type": "markdown",
   "metadata": {},
   "source": [
    "Males are favored for awards according to this contrast model, since the peak of this curve lies at approx. -0.01. This indicates that the probability for males was larger than females if the difference between (female - male) is negative. The area under the curve from probability 0.00 to 0.02 demonstrate that there are much smaller percentage of differences where female probabilty is greater than male probability, such that the difference is positive. Values of probability beneath the curve from -0.08 to 0.00 have negative differences, where males have a higher probability. "
   ]
  },
  {
   "cell_type": "markdown",
   "metadata": {
    "deletable": false,
    "editable": false
   },
   "source": [
    "<!-- END QUESTION -->\n",
    "\n",
    "<!-- BEGIN QUESTION -->\n",
    "\n",
    "**Question 2**. **(22 points)** Now estimate the AVERAGE DIRECT causal effect of gender on grant awards using a counterfactual simulation as demonstrated in lecture.\n",
    "\n",
    "**Note** : _Refer to the counterfactual simulation for UC Berkeley admission outcomes from the lecture on Bernoulli/Binomial Generalized Linear Models for guidance. Its ok to just write code and generate plots for this question. Question 3 focuses on interpreting your results._"
   ]
  },
  {
   "cell_type": "markdown",
   "metadata": {},
   "source": [
    "There seems to be an effect of gender on grant awards, based on the summarized data. Each of the averages fall between the HPDI interval. r-hat values are extremely close to 1 suggesting reliable estimates."
   ]
  },
  {
   "cell_type": "code",
   "execution_count": 196,
   "metadata": {
    "tags": []
   },
   "outputs": [
    {
     "name": "stderr",
     "output_type": "stream",
     "text": [
      "Auto-assigning NUTS sampler...\n",
      "Initializing NUTS using jitter+adapt_diag...\n",
      "Sequential sampling (2 chains in 1 job)\n",
      "NUTS: [alpha]\n"
     ]
    },
    {
     "data": {
      "text/html": [
       "\n",
       "<style>\n",
       "    /* Turns off some styling */\n",
       "    progress {\n",
       "        /* gets rid of default border in Firefox and Opera. */\n",
       "        border: none;\n",
       "        /* Needs to be in here for Safari polyfill so background images work as expected. */\n",
       "        background-size: auto;\n",
       "    }\n",
       "    progress:not([value]), progress:not([value])::-webkit-progress-bar {\n",
       "        background: repeating-linear-gradient(45deg, #7e7e7e, #7e7e7e 10px, #5c5c5c 10px, #5c5c5c 20px);\n",
       "    }\n",
       "    .progress-bar-interrupted, .progress-bar-interrupted::-webkit-progress-bar {\n",
       "        background: #F44336;\n",
       "    }\n",
       "</style>\n"
      ],
      "text/plain": [
       "<IPython.core.display.HTML object>"
      ]
     },
     "metadata": {},
     "output_type": "display_data"
    },
    {
     "data": {
      "text/html": [
       "\n",
       "    <div>\n",
       "      <progress value='2000' class='' max='2000' style='width:300px; height:20px; vertical-align: middle;'></progress>\n",
       "      100.00% [2000/2000 00:03&lt;00:00 Sampling chain 0, 0 divergences]\n",
       "    </div>\n",
       "    "
      ],
      "text/plain": [
       "<IPython.core.display.HTML object>"
      ]
     },
     "metadata": {},
     "output_type": "display_data"
    },
    {
     "data": {
      "text/html": [
       "\n",
       "<style>\n",
       "    /* Turns off some styling */\n",
       "    progress {\n",
       "        /* gets rid of default border in Firefox and Opera. */\n",
       "        border: none;\n",
       "        /* Needs to be in here for Safari polyfill so background images work as expected. */\n",
       "        background-size: auto;\n",
       "    }\n",
       "    progress:not([value]), progress:not([value])::-webkit-progress-bar {\n",
       "        background: repeating-linear-gradient(45deg, #7e7e7e, #7e7e7e 10px, #5c5c5c 10px, #5c5c5c 20px);\n",
       "    }\n",
       "    .progress-bar-interrupted, .progress-bar-interrupted::-webkit-progress-bar {\n",
       "        background: #F44336;\n",
       "    }\n",
       "</style>\n"
      ],
      "text/plain": [
       "<IPython.core.display.HTML object>"
      ]
     },
     "metadata": {},
     "output_type": "display_data"
    },
    {
     "data": {
      "text/html": [
       "\n",
       "    <div>\n",
       "      <progress value='2000' class='' max='2000' style='width:300px; height:20px; vertical-align: middle;'></progress>\n",
       "      100.00% [2000/2000 00:03&lt;00:00 Sampling chain 1, 0 divergences]\n",
       "    </div>\n",
       "    "
      ],
      "text/plain": [
       "<IPython.core.display.HTML object>"
      ]
     },
     "metadata": {},
     "output_type": "display_data"
    },
    {
     "name": "stderr",
     "output_type": "stream",
     "text": [
      "Sampling 2 chains for 1_000 tune and 1_000 draw iterations (2_000 + 2_000 draws total) took 7 seconds.\n",
      "We recommend running at least 4 chains for robust computation of convergence diagnostics\n"
     ]
    },
    {
     "data": {
      "text/html": [
       "<div>\n",
       "<style scoped>\n",
       "    .dataframe tbody tr th:only-of-type {\n",
       "        vertical-align: middle;\n",
       "    }\n",
       "\n",
       "    .dataframe tbody tr th {\n",
       "        vertical-align: top;\n",
       "    }\n",
       "\n",
       "    .dataframe thead th {\n",
       "        text-align: right;\n",
       "    }\n",
       "</style>\n",
       "<table border=\"1\" class=\"dataframe\">\n",
       "  <thead>\n",
       "    <tr style=\"text-align: right;\">\n",
       "      <th></th>\n",
       "      <th>mean</th>\n",
       "      <th>sd</th>\n",
       "      <th>hdi_5.5%</th>\n",
       "      <th>hdi_94.5%</th>\n",
       "      <th>mcse_mean</th>\n",
       "      <th>mcse_sd</th>\n",
       "      <th>ess_bulk</th>\n",
       "      <th>ess_tail</th>\n",
       "      <th>r_hat</th>\n",
       "    </tr>\n",
       "  </thead>\n",
       "  <tbody>\n",
       "    <tr>\n",
       "      <th>alpha[0, 0]</th>\n",
       "      <td>-0.966</td>\n",
       "      <td>0.327</td>\n",
       "      <td>-1.536</td>\n",
       "      <td>-0.506</td>\n",
       "      <td>0.005</td>\n",
       "      <td>0.004</td>\n",
       "      <td>5263.0</td>\n",
       "      <td>1372.0</td>\n",
       "      <td>1.00</td>\n",
       "    </tr>\n",
       "    <tr>\n",
       "      <th>alpha[0, 1]</th>\n",
       "      <td>-1.709</td>\n",
       "      <td>0.241</td>\n",
       "      <td>-2.083</td>\n",
       "      <td>-1.328</td>\n",
       "      <td>0.003</td>\n",
       "      <td>0.003</td>\n",
       "      <td>5747.0</td>\n",
       "      <td>1336.0</td>\n",
       "      <td>1.00</td>\n",
       "    </tr>\n",
       "    <tr>\n",
       "      <th>alpha[0, 2]</th>\n",
       "      <td>-1.392</td>\n",
       "      <td>0.191</td>\n",
       "      <td>-1.697</td>\n",
       "      <td>-1.090</td>\n",
       "      <td>0.003</td>\n",
       "      <td>0.002</td>\n",
       "      <td>5609.0</td>\n",
       "      <td>1202.0</td>\n",
       "      <td>1.00</td>\n",
       "    </tr>\n",
       "    <tr>\n",
       "      <th>alpha[0, 3]</th>\n",
       "      <td>-1.209</td>\n",
       "      <td>0.256</td>\n",
       "      <td>-1.619</td>\n",
       "      <td>-0.815</td>\n",
       "      <td>0.004</td>\n",
       "      <td>0.003</td>\n",
       "      <td>5327.0</td>\n",
       "      <td>1409.0</td>\n",
       "      <td>1.00</td>\n",
       "    </tr>\n",
       "    <tr>\n",
       "      <th>alpha[0, 4]</th>\n",
       "      <td>-2.012</td>\n",
       "      <td>0.199</td>\n",
       "      <td>-2.290</td>\n",
       "      <td>-1.651</td>\n",
       "      <td>0.003</td>\n",
       "      <td>0.002</td>\n",
       "      <td>5993.0</td>\n",
       "      <td>1442.0</td>\n",
       "      <td>1.00</td>\n",
       "    </tr>\n",
       "    <tr>\n",
       "      <th>alpha[0, 5]</th>\n",
       "      <td>-1.086</td>\n",
       "      <td>0.343</td>\n",
       "      <td>-1.635</td>\n",
       "      <td>-0.537</td>\n",
       "      <td>0.005</td>\n",
       "      <td>0.004</td>\n",
       "      <td>4860.0</td>\n",
       "      <td>1636.0</td>\n",
       "      <td>1.00</td>\n",
       "    </tr>\n",
       "    <tr>\n",
       "      <th>alpha[0, 6]</th>\n",
       "      <td>-0.825</td>\n",
       "      <td>0.593</td>\n",
       "      <td>-1.744</td>\n",
       "      <td>0.121</td>\n",
       "      <td>0.008</td>\n",
       "      <td>0.009</td>\n",
       "      <td>6185.0</td>\n",
       "      <td>1393.0</td>\n",
       "      <td>1.00</td>\n",
       "    </tr>\n",
       "    <tr>\n",
       "      <th>alpha[0, 7]</th>\n",
       "      <td>-2.004</td>\n",
       "      <td>0.144</td>\n",
       "      <td>-2.220</td>\n",
       "      <td>-1.755</td>\n",
       "      <td>0.002</td>\n",
       "      <td>0.001</td>\n",
       "      <td>5703.0</td>\n",
       "      <td>1260.0</td>\n",
       "      <td>1.00</td>\n",
       "    </tr>\n",
       "    <tr>\n",
       "      <th>alpha[0, 8]</th>\n",
       "      <td>-1.235</td>\n",
       "      <td>0.286</td>\n",
       "      <td>-1.714</td>\n",
       "      <td>-0.800</td>\n",
       "      <td>0.004</td>\n",
       "      <td>0.003</td>\n",
       "      <td>5069.0</td>\n",
       "      <td>1545.0</td>\n",
       "      <td>1.00</td>\n",
       "    </tr>\n",
       "    <tr>\n",
       "      <th>alpha[0, 9]</th>\n",
       "      <td>0.019</td>\n",
       "      <td>0.969</td>\n",
       "      <td>-1.579</td>\n",
       "      <td>1.528</td>\n",
       "      <td>0.013</td>\n",
       "      <td>0.025</td>\n",
       "      <td>5137.0</td>\n",
       "      <td>1315.0</td>\n",
       "      <td>1.00</td>\n",
       "    </tr>\n",
       "    <tr>\n",
       "      <th>alpha[0, 10]</th>\n",
       "      <td>0.000</td>\n",
       "      <td>1.019</td>\n",
       "      <td>-1.656</td>\n",
       "      <td>1.607</td>\n",
       "      <td>0.013</td>\n",
       "      <td>0.026</td>\n",
       "      <td>5901.0</td>\n",
       "      <td>1515.0</td>\n",
       "      <td>1.00</td>\n",
       "    </tr>\n",
       "    <tr>\n",
       "      <th>alpha[0, 11]</th>\n",
       "      <td>0.017</td>\n",
       "      <td>1.002</td>\n",
       "      <td>-1.525</td>\n",
       "      <td>1.718</td>\n",
       "      <td>0.014</td>\n",
       "      <td>0.026</td>\n",
       "      <td>5043.0</td>\n",
       "      <td>1307.0</td>\n",
       "      <td>1.00</td>\n",
       "    </tr>\n",
       "    <tr>\n",
       "      <th>alpha[0, 12]</th>\n",
       "      <td>0.009</td>\n",
       "      <td>1.018</td>\n",
       "      <td>-1.675</td>\n",
       "      <td>1.559</td>\n",
       "      <td>0.013</td>\n",
       "      <td>0.026</td>\n",
       "      <td>5965.0</td>\n",
       "      <td>1420.0</td>\n",
       "      <td>1.00</td>\n",
       "    </tr>\n",
       "    <tr>\n",
       "      <th>alpha[0, 13]</th>\n",
       "      <td>0.009</td>\n",
       "      <td>0.977</td>\n",
       "      <td>-1.499</td>\n",
       "      <td>1.637</td>\n",
       "      <td>0.014</td>\n",
       "      <td>0.026</td>\n",
       "      <td>4546.0</td>\n",
       "      <td>1345.0</td>\n",
       "      <td>1.00</td>\n",
       "    </tr>\n",
       "    <tr>\n",
       "      <th>alpha[0, 14]</th>\n",
       "      <td>-0.004</td>\n",
       "      <td>0.996</td>\n",
       "      <td>-1.533</td>\n",
       "      <td>1.672</td>\n",
       "      <td>0.015</td>\n",
       "      <td>0.025</td>\n",
       "      <td>4219.0</td>\n",
       "      <td>1419.0</td>\n",
       "      <td>1.00</td>\n",
       "    </tr>\n",
       "    <tr>\n",
       "      <th>alpha[0, 15]</th>\n",
       "      <td>-0.021</td>\n",
       "      <td>0.965</td>\n",
       "      <td>-1.554</td>\n",
       "      <td>1.502</td>\n",
       "      <td>0.013</td>\n",
       "      <td>0.024</td>\n",
       "      <td>5664.0</td>\n",
       "      <td>1524.0</td>\n",
       "      <td>1.00</td>\n",
       "    </tr>\n",
       "    <tr>\n",
       "      <th>alpha[0, 16]</th>\n",
       "      <td>-0.005</td>\n",
       "      <td>0.966</td>\n",
       "      <td>-1.503</td>\n",
       "      <td>1.550</td>\n",
       "      <td>0.015</td>\n",
       "      <td>0.024</td>\n",
       "      <td>4199.0</td>\n",
       "      <td>1254.0</td>\n",
       "      <td>1.00</td>\n",
       "    </tr>\n",
       "    <tr>\n",
       "      <th>alpha[1, 0]</th>\n",
       "      <td>-0.972</td>\n",
       "      <td>0.244</td>\n",
       "      <td>-1.331</td>\n",
       "      <td>-0.543</td>\n",
       "      <td>0.003</td>\n",
       "      <td>0.003</td>\n",
       "      <td>5575.0</td>\n",
       "      <td>1294.0</td>\n",
       "      <td>1.00</td>\n",
       "    </tr>\n",
       "    <tr>\n",
       "      <th>alpha[1, 1]</th>\n",
       "      <td>-1.101</td>\n",
       "      <td>0.176</td>\n",
       "      <td>-1.401</td>\n",
       "      <td>-0.840</td>\n",
       "      <td>0.002</td>\n",
       "      <td>0.002</td>\n",
       "      <td>6028.0</td>\n",
       "      <td>1373.0</td>\n",
       "      <td>1.00</td>\n",
       "    </tr>\n",
       "    <tr>\n",
       "      <th>alpha[1, 2]</th>\n",
       "      <td>-1.737</td>\n",
       "      <td>0.180</td>\n",
       "      <td>-2.017</td>\n",
       "      <td>-1.451</td>\n",
       "      <td>0.002</td>\n",
       "      <td>0.002</td>\n",
       "      <td>5953.0</td>\n",
       "      <td>1448.0</td>\n",
       "      <td>1.01</td>\n",
       "    </tr>\n",
       "    <tr>\n",
       "      <th>alpha[1, 3]</th>\n",
       "      <td>-1.902</td>\n",
       "      <td>0.275</td>\n",
       "      <td>-2.346</td>\n",
       "      <td>-1.475</td>\n",
       "      <td>0.004</td>\n",
       "      <td>0.003</td>\n",
       "      <td>4924.0</td>\n",
       "      <td>1542.0</td>\n",
       "      <td>1.00</td>\n",
       "    </tr>\n",
       "    <tr>\n",
       "      <th>alpha[1, 4]</th>\n",
       "      <td>-1.435</td>\n",
       "      <td>0.161</td>\n",
       "      <td>-1.697</td>\n",
       "      <td>-1.188</td>\n",
       "      <td>0.002</td>\n",
       "      <td>0.002</td>\n",
       "      <td>5893.0</td>\n",
       "      <td>1592.0</td>\n",
       "      <td>1.00</td>\n",
       "    </tr>\n",
       "    <tr>\n",
       "      <th>alpha[1, 5]</th>\n",
       "      <td>-1.387</td>\n",
       "      <td>0.203</td>\n",
       "      <td>-1.705</td>\n",
       "      <td>-1.076</td>\n",
       "      <td>0.003</td>\n",
       "      <td>0.002</td>\n",
       "      <td>5370.0</td>\n",
       "      <td>1238.0</td>\n",
       "      <td>1.00</td>\n",
       "    </tr>\n",
       "    <tr>\n",
       "      <th>alpha[1, 6]</th>\n",
       "      <td>-0.943</td>\n",
       "      <td>0.254</td>\n",
       "      <td>-1.326</td>\n",
       "      <td>-0.523</td>\n",
       "      <td>0.004</td>\n",
       "      <td>0.003</td>\n",
       "      <td>4017.0</td>\n",
       "      <td>1246.0</td>\n",
       "      <td>1.00</td>\n",
       "    </tr>\n",
       "    <tr>\n",
       "      <th>alpha[1, 7]</th>\n",
       "      <td>-1.687</td>\n",
       "      <td>0.132</td>\n",
       "      <td>-1.893</td>\n",
       "      <td>-1.475</td>\n",
       "      <td>0.002</td>\n",
       "      <td>0.001</td>\n",
       "      <td>5897.0</td>\n",
       "      <td>1485.0</td>\n",
       "      <td>1.00</td>\n",
       "    </tr>\n",
       "    <tr>\n",
       "      <th>alpha[1, 8]</th>\n",
       "      <td>-1.621</td>\n",
       "      <td>0.203</td>\n",
       "      <td>-1.951</td>\n",
       "      <td>-1.306</td>\n",
       "      <td>0.003</td>\n",
       "      <td>0.002</td>\n",
       "      <td>6066.0</td>\n",
       "      <td>1607.0</td>\n",
       "      <td>1.00</td>\n",
       "    </tr>\n",
       "    <tr>\n",
       "      <th>alpha[1, 9]</th>\n",
       "      <td>-0.010</td>\n",
       "      <td>1.013</td>\n",
       "      <td>-1.657</td>\n",
       "      <td>1.531</td>\n",
       "      <td>0.013</td>\n",
       "      <td>0.032</td>\n",
       "      <td>5925.0</td>\n",
       "      <td>1168.0</td>\n",
       "      <td>1.00</td>\n",
       "    </tr>\n",
       "    <tr>\n",
       "      <th>alpha[1, 10]</th>\n",
       "      <td>-0.025</td>\n",
       "      <td>1.014</td>\n",
       "      <td>-1.682</td>\n",
       "      <td>1.525</td>\n",
       "      <td>0.015</td>\n",
       "      <td>0.029</td>\n",
       "      <td>4860.0</td>\n",
       "      <td>1300.0</td>\n",
       "      <td>1.00</td>\n",
       "    </tr>\n",
       "    <tr>\n",
       "      <th>alpha[1, 11]</th>\n",
       "      <td>0.009</td>\n",
       "      <td>0.992</td>\n",
       "      <td>-1.535</td>\n",
       "      <td>1.602</td>\n",
       "      <td>0.014</td>\n",
       "      <td>0.028</td>\n",
       "      <td>4827.0</td>\n",
       "      <td>1397.0</td>\n",
       "      <td>1.00</td>\n",
       "    </tr>\n",
       "    <tr>\n",
       "      <th>alpha[1, 12]</th>\n",
       "      <td>0.028</td>\n",
       "      <td>1.037</td>\n",
       "      <td>-1.559</td>\n",
       "      <td>1.712</td>\n",
       "      <td>0.014</td>\n",
       "      <td>0.026</td>\n",
       "      <td>5654.0</td>\n",
       "      <td>1555.0</td>\n",
       "      <td>1.00</td>\n",
       "    </tr>\n",
       "    <tr>\n",
       "      <th>alpha[1, 13]</th>\n",
       "      <td>-0.020</td>\n",
       "      <td>1.052</td>\n",
       "      <td>-1.751</td>\n",
       "      <td>1.590</td>\n",
       "      <td>0.013</td>\n",
       "      <td>0.029</td>\n",
       "      <td>6180.0</td>\n",
       "      <td>1269.0</td>\n",
       "      <td>1.00</td>\n",
       "    </tr>\n",
       "    <tr>\n",
       "      <th>alpha[1, 14]</th>\n",
       "      <td>0.018</td>\n",
       "      <td>1.003</td>\n",
       "      <td>-1.535</td>\n",
       "      <td>1.658</td>\n",
       "      <td>0.015</td>\n",
       "      <td>0.026</td>\n",
       "      <td>4391.0</td>\n",
       "      <td>1280.0</td>\n",
       "      <td>1.00</td>\n",
       "    </tr>\n",
       "    <tr>\n",
       "      <th>alpha[1, 15]</th>\n",
       "      <td>0.001</td>\n",
       "      <td>1.024</td>\n",
       "      <td>-1.592</td>\n",
       "      <td>1.622</td>\n",
       "      <td>0.015</td>\n",
       "      <td>0.025</td>\n",
       "      <td>4825.0</td>\n",
       "      <td>1414.0</td>\n",
       "      <td>1.00</td>\n",
       "    </tr>\n",
       "    <tr>\n",
       "      <th>alpha[1, 16]</th>\n",
       "      <td>-0.034</td>\n",
       "      <td>1.018</td>\n",
       "      <td>-1.612</td>\n",
       "      <td>1.563</td>\n",
       "      <td>0.015</td>\n",
       "      <td>0.029</td>\n",
       "      <td>4590.0</td>\n",
       "      <td>1275.0</td>\n",
       "      <td>1.00</td>\n",
       "    </tr>\n",
       "  </tbody>\n",
       "</table>\n",
       "</div>"
      ],
      "text/plain": [
       "               mean     sd  hdi_5.5%  hdi_94.5%  mcse_mean  mcse_sd  ess_bulk  \\\n",
       "alpha[0, 0]  -0.966  0.327    -1.536     -0.506      0.005    0.004    5263.0   \n",
       "alpha[0, 1]  -1.709  0.241    -2.083     -1.328      0.003    0.003    5747.0   \n",
       "alpha[0, 2]  -1.392  0.191    -1.697     -1.090      0.003    0.002    5609.0   \n",
       "alpha[0, 3]  -1.209  0.256    -1.619     -0.815      0.004    0.003    5327.0   \n",
       "alpha[0, 4]  -2.012  0.199    -2.290     -1.651      0.003    0.002    5993.0   \n",
       "alpha[0, 5]  -1.086  0.343    -1.635     -0.537      0.005    0.004    4860.0   \n",
       "alpha[0, 6]  -0.825  0.593    -1.744      0.121      0.008    0.009    6185.0   \n",
       "alpha[0, 7]  -2.004  0.144    -2.220     -1.755      0.002    0.001    5703.0   \n",
       "alpha[0, 8]  -1.235  0.286    -1.714     -0.800      0.004    0.003    5069.0   \n",
       "alpha[0, 9]   0.019  0.969    -1.579      1.528      0.013    0.025    5137.0   \n",
       "alpha[0, 10]  0.000  1.019    -1.656      1.607      0.013    0.026    5901.0   \n",
       "alpha[0, 11]  0.017  1.002    -1.525      1.718      0.014    0.026    5043.0   \n",
       "alpha[0, 12]  0.009  1.018    -1.675      1.559      0.013    0.026    5965.0   \n",
       "alpha[0, 13]  0.009  0.977    -1.499      1.637      0.014    0.026    4546.0   \n",
       "alpha[0, 14] -0.004  0.996    -1.533      1.672      0.015    0.025    4219.0   \n",
       "alpha[0, 15] -0.021  0.965    -1.554      1.502      0.013    0.024    5664.0   \n",
       "alpha[0, 16] -0.005  0.966    -1.503      1.550      0.015    0.024    4199.0   \n",
       "alpha[1, 0]  -0.972  0.244    -1.331     -0.543      0.003    0.003    5575.0   \n",
       "alpha[1, 1]  -1.101  0.176    -1.401     -0.840      0.002    0.002    6028.0   \n",
       "alpha[1, 2]  -1.737  0.180    -2.017     -1.451      0.002    0.002    5953.0   \n",
       "alpha[1, 3]  -1.902  0.275    -2.346     -1.475      0.004    0.003    4924.0   \n",
       "alpha[1, 4]  -1.435  0.161    -1.697     -1.188      0.002    0.002    5893.0   \n",
       "alpha[1, 5]  -1.387  0.203    -1.705     -1.076      0.003    0.002    5370.0   \n",
       "alpha[1, 6]  -0.943  0.254    -1.326     -0.523      0.004    0.003    4017.0   \n",
       "alpha[1, 7]  -1.687  0.132    -1.893     -1.475      0.002    0.001    5897.0   \n",
       "alpha[1, 8]  -1.621  0.203    -1.951     -1.306      0.003    0.002    6066.0   \n",
       "alpha[1, 9]  -0.010  1.013    -1.657      1.531      0.013    0.032    5925.0   \n",
       "alpha[1, 10] -0.025  1.014    -1.682      1.525      0.015    0.029    4860.0   \n",
       "alpha[1, 11]  0.009  0.992    -1.535      1.602      0.014    0.028    4827.0   \n",
       "alpha[1, 12]  0.028  1.037    -1.559      1.712      0.014    0.026    5654.0   \n",
       "alpha[1, 13] -0.020  1.052    -1.751      1.590      0.013    0.029    6180.0   \n",
       "alpha[1, 14]  0.018  1.003    -1.535      1.658      0.015    0.026    4391.0   \n",
       "alpha[1, 15]  0.001  1.024    -1.592      1.622      0.015    0.025    4825.0   \n",
       "alpha[1, 16] -0.034  1.018    -1.612      1.563      0.015    0.029    4590.0   \n",
       "\n",
       "              ess_tail  r_hat  \n",
       "alpha[0, 0]     1372.0   1.00  \n",
       "alpha[0, 1]     1336.0   1.00  \n",
       "alpha[0, 2]     1202.0   1.00  \n",
       "alpha[0, 3]     1409.0   1.00  \n",
       "alpha[0, 4]     1442.0   1.00  \n",
       "alpha[0, 5]     1636.0   1.00  \n",
       "alpha[0, 6]     1393.0   1.00  \n",
       "alpha[0, 7]     1260.0   1.00  \n",
       "alpha[0, 8]     1545.0   1.00  \n",
       "alpha[0, 9]     1315.0   1.00  \n",
       "alpha[0, 10]    1515.0   1.00  \n",
       "alpha[0, 11]    1307.0   1.00  \n",
       "alpha[0, 12]    1420.0   1.00  \n",
       "alpha[0, 13]    1345.0   1.00  \n",
       "alpha[0, 14]    1419.0   1.00  \n",
       "alpha[0, 15]    1524.0   1.00  \n",
       "alpha[0, 16]    1254.0   1.00  \n",
       "alpha[1, 0]     1294.0   1.00  \n",
       "alpha[1, 1]     1373.0   1.00  \n",
       "alpha[1, 2]     1448.0   1.01  \n",
       "alpha[1, 3]     1542.0   1.00  \n",
       "alpha[1, 4]     1592.0   1.00  \n",
       "alpha[1, 5]     1238.0   1.00  \n",
       "alpha[1, 6]     1246.0   1.00  \n",
       "alpha[1, 7]     1485.0   1.00  \n",
       "alpha[1, 8]     1607.0   1.00  \n",
       "alpha[1, 9]     1168.0   1.00  \n",
       "alpha[1, 10]    1300.0   1.00  \n",
       "alpha[1, 11]    1397.0   1.00  \n",
       "alpha[1, 12]    1555.0   1.00  \n",
       "alpha[1, 13]    1269.0   1.00  \n",
       "alpha[1, 14]    1280.0   1.00  \n",
       "alpha[1, 15]    1414.0   1.00  \n",
       "alpha[1, 16]    1275.0   1.00  "
      ]
     },
     "execution_count": 196,
     "metadata": {},
     "output_type": "execute_result"
    }
   ],
   "source": [
    "# model for counterfactual simulation\n",
    "\n",
    "with pm.Model() as m_GA_cf:\n",
    "    # pm.MutableData allow for simulated interventions on variable\n",
    "    d_G = pm.MutableData(\"gender\", G.astype(\"int64\"))\n",
    "    d_D = pm.MutableData(\"discipline\", D.astype(\"int64\"))\n",
    "    d_A = pm.MutableData(\"awards\", A.astype(\"int64\"))\n",
    "    d_N = pm.MutableData(\"num\", N.astype(\"int64\")) # number of applications\n",
    "    \n",
    "    alpha = pm.Normal(\"alpha\", 0, 1, shape=(2, len(np.unique(A))))\n",
    "    p = pm.Deterministic(\"p\", pm.math.invlogit(alpha[d_G, d_D]))\n",
    "    mod_A = pm.Binomial(\"A\", d_N, p, observed=A, shape=d_D.shape)\n",
    "    \n",
    "    idata_GA_cf = pm.sample()\n",
    "    \n",
    "az.summary(idata_GA_cf, var_names=\"~p\", kind=\"all\")"
   ]
  },
  {
   "cell_type": "markdown",
   "metadata": {
    "deletable": false,
    "editable": false
   },
   "source": [
    "After estimating the average direct causal effect of gender on grant awards:\n",
    "1. Plot the average direct causal effect as a contrast plot from the results of the counterfactual simulation."
   ]
  },
  {
   "cell_type": "code",
   "execution_count": 197,
   "metadata": {
    "tags": []
   },
   "outputs": [
    {
     "name": "stderr",
     "output_type": "stream",
     "text": [
      "Auto-assigning NUTS sampler...\n",
      "Initializing NUTS using jitter+adapt_diag...\n",
      "Sequential sampling (2 chains in 1 job)\n",
      "NUTS: [alpha]\n"
     ]
    },
    {
     "data": {
      "text/html": [
       "\n",
       "<style>\n",
       "    /* Turns off some styling */\n",
       "    progress {\n",
       "        /* gets rid of default border in Firefox and Opera. */\n",
       "        border: none;\n",
       "        /* Needs to be in here for Safari polyfill so background images work as expected. */\n",
       "        background-size: auto;\n",
       "    }\n",
       "    progress:not([value]), progress:not([value])::-webkit-progress-bar {\n",
       "        background: repeating-linear-gradient(45deg, #7e7e7e, #7e7e7e 10px, #5c5c5c 10px, #5c5c5c 20px);\n",
       "    }\n",
       "    .progress-bar-interrupted, .progress-bar-interrupted::-webkit-progress-bar {\n",
       "        background: #F44336;\n",
       "    }\n",
       "</style>\n"
      ],
      "text/plain": [
       "<IPython.core.display.HTML object>"
      ]
     },
     "metadata": {},
     "output_type": "display_data"
    },
    {
     "data": {
      "text/html": [
       "\n",
       "    <div>\n",
       "      <progress value='2000' class='' max='2000' style='width:300px; height:20px; vertical-align: middle;'></progress>\n",
       "      100.00% [2000/2000 00:02&lt;00:00 Sampling chain 0, 0 divergences]\n",
       "    </div>\n",
       "    "
      ],
      "text/plain": [
       "<IPython.core.display.HTML object>"
      ]
     },
     "metadata": {},
     "output_type": "display_data"
    },
    {
     "data": {
      "text/html": [
       "\n",
       "<style>\n",
       "    /* Turns off some styling */\n",
       "    progress {\n",
       "        /* gets rid of default border in Firefox and Opera. */\n",
       "        border: none;\n",
       "        /* Needs to be in here for Safari polyfill so background images work as expected. */\n",
       "        background-size: auto;\n",
       "    }\n",
       "    progress:not([value]), progress:not([value])::-webkit-progress-bar {\n",
       "        background: repeating-linear-gradient(45deg, #7e7e7e, #7e7e7e 10px, #5c5c5c 10px, #5c5c5c 20px);\n",
       "    }\n",
       "    .progress-bar-interrupted, .progress-bar-interrupted::-webkit-progress-bar {\n",
       "        background: #F44336;\n",
       "    }\n",
       "</style>\n"
      ],
      "text/plain": [
       "<IPython.core.display.HTML object>"
      ]
     },
     "metadata": {},
     "output_type": "display_data"
    },
    {
     "data": {
      "text/html": [
       "\n",
       "    <div>\n",
       "      <progress value='2000' class='' max='2000' style='width:300px; height:20px; vertical-align: middle;'></progress>\n",
       "      100.00% [2000/2000 00:02&lt;00:00 Sampling chain 1, 0 divergences]\n",
       "    </div>\n",
       "    "
      ],
      "text/plain": [
       "<IPython.core.display.HTML object>"
      ]
     },
     "metadata": {},
     "output_type": "display_data"
    },
    {
     "name": "stderr",
     "output_type": "stream",
     "text": [
      "Sampling 2 chains for 1_000 tune and 1_000 draw iterations (2_000 + 2_000 draws total) took 6 seconds.\n",
      "We recommend running at least 4 chains for robust computation of convergence diagnostics\n",
      "Sampling: [A]\n"
     ]
    },
    {
     "data": {
      "text/html": [
       "\n",
       "<style>\n",
       "    /* Turns off some styling */\n",
       "    progress {\n",
       "        /* gets rid of default border in Firefox and Opera. */\n",
       "        border: none;\n",
       "        /* Needs to be in here for Safari polyfill so background images work as expected. */\n",
       "        background-size: auto;\n",
       "    }\n",
       "    progress:not([value]), progress:not([value])::-webkit-progress-bar {\n",
       "        background: repeating-linear-gradient(45deg, #7e7e7e, #7e7e7e 10px, #5c5c5c 10px, #5c5c5c 20px);\n",
       "    }\n",
       "    .progress-bar-interrupted, .progress-bar-interrupted::-webkit-progress-bar {\n",
       "        background: #F44336;\n",
       "    }\n",
       "</style>\n"
      ],
      "text/plain": [
       "<IPython.core.display.HTML object>"
      ]
     },
     "metadata": {},
     "output_type": "display_data"
    },
    {
     "data": {
      "text/html": [
       "\n",
       "    <div>\n",
       "      <progress value='2000' class='' max='2000' style='width:300px; height:20px; vertical-align: middle;'></progress>\n",
       "      100.00% [2000/2000 00:00&lt;00:00]\n",
       "    </div>\n",
       "    "
      ],
      "text/plain": [
       "<IPython.core.display.HTML object>"
      ]
     },
     "metadata": {},
     "output_type": "display_data"
    },
    {
     "name": "stderr",
     "output_type": "stream",
     "text": [
      "Sampling: [A]\n"
     ]
    },
    {
     "data": {
      "text/html": [
       "\n",
       "<style>\n",
       "    /* Turns off some styling */\n",
       "    progress {\n",
       "        /* gets rid of default border in Firefox and Opera. */\n",
       "        border: none;\n",
       "        /* Needs to be in here for Safari polyfill so background images work as expected. */\n",
       "        background-size: auto;\n",
       "    }\n",
       "    progress:not([value]), progress:not([value])::-webkit-progress-bar {\n",
       "        background: repeating-linear-gradient(45deg, #7e7e7e, #7e7e7e 10px, #5c5c5c 10px, #5c5c5c 20px);\n",
       "    }\n",
       "    .progress-bar-interrupted, .progress-bar-interrupted::-webkit-progress-bar {\n",
       "        background: #F44336;\n",
       "    }\n",
       "</style>\n"
      ],
      "text/plain": [
       "<IPython.core.display.HTML object>"
      ]
     },
     "metadata": {},
     "output_type": "display_data"
    },
    {
     "data": {
      "text/html": [
       "\n",
       "    <div>\n",
       "      <progress value='2000' class='' max='2000' style='width:300px; height:20px; vertical-align: middle;'></progress>\n",
       "      100.00% [2000/2000 00:00&lt;00:00]\n",
       "    </div>\n",
       "    "
      ],
      "text/plain": [
       "<IPython.core.display.HTML object>"
      ]
     },
     "metadata": {},
     "output_type": "display_data"
    },
    {
     "data": {
      "image/png": "[encoded data removed]",
      "text/plain": [
       "<Figure size 640x480 with 1 Axes>"
      ]
     },
     "metadata": {},
     "output_type": "display_data"
    }
   ],
   "source": [
    "# model for counterfactual simulation\n",
    "with pm.Model() as m_GA_cf:\n",
    "# pm.MutableData allow for simulated interventions on variable\n",
    "    d_D = pm.MutableData(\"discipline\", D.astype(\"int64\"))\n",
    "    d_G = pm.MutableData(\"gender\", G.astype(\"int64\"))\n",
    "    d_N = pm.MutableData(\"num\", N.astype(\"int64\"))\n",
    "    alpha = pm.Normal(\"alpha\", 0, 1, shape=(2, len(np.unique(D)))) # unique disciplines\n",
    "    p = pm.Deterministic(\"p\", pm.math.invlogit(alpha[d_G, d_D]))\n",
    "    mod_A = pm.Binomial(\"A\", d_N, p, observed=A, shape=d_D.shape)\n",
    "    idata_GA_cf = pm.sample()\n",
    "    \n",
    "total_apps = df.applications.sum()\n",
    "apps_per_discipline = df.groupby(\"discipline\")[\"applications\"].sum()\n",
    "\n",
    "with m_GA_cf: # Female \n",
    "# simulate as if all apps from women\n",
    "    pm.set_data({\n",
    "         \"discipline\": np.repeat(range(len(apps_per_discipline)), apps_per_discipline),\n",
    "         \"num\": np.repeat(1, total_apps),\n",
    "         \"gender\": np.repeat(0, total_apps)\n",
    "    })\n",
    "    cf_A_G0 = pm.sample_posterior_predictive(idata_GA_cf)\n",
    "    \n",
    "with m_GA_cf:\n",
    "    pm.set_data({\n",
    "         \"discipline\": np.repeat(range(len(apps_per_discipline)), apps_per_discipline),\n",
    "         \"num\": np.repeat(1, total_apps),\n",
    "         \"gender\": np.repeat(1, total_apps)\n",
    "    })\n",
    "    cf_A_G1 = pm.sample_posterior_predictive(idata_GA_cf)\n",
    "    \n",
    "# extract the posterior_predictive samples from the Inference Data object to simplify access and merge chains\n",
    "admitted_G0 = az.extract(cf_A_G0, group=\"posterior_predictive\")\n",
    "admitted_G1 = az.extract(cf_A_G1, group=\"posterior_predictive\")\n",
    "\n",
    "# compute admit rate for each simulation by gender\n",
    "num_samples = admitted_G0.A.values.shape[1]\n",
    "admit_rate_G0 = admitted_G0.A.values.sum(axis=1) / num_samples\n",
    "admit_rate_G1 = admitted_G1.A.values.sum(axis=1) / num_samples\n",
    "\n",
    "\n",
    "# plot contrast\n",
    "sns.kdeplot(admit_rate_G0 - admit_rate_G1, color=\"#e06666\")\n",
    "plt.xlabel(\"effect of gender perception\")\n",
    "plt.xlim(left=-0.2)\n",
    "plt.axvline(0, linestyle=\"--\")\n",
    "sns.despine();"
   ]
  },
  {
   "cell_type": "markdown",
   "metadata": {
    "deletable": false,
    "editable": false
   },
   "source": [
    "2. Plot the DIRECT causal effect of reported gender by discipline, **weighting each discipline** in proportion to the number of applications in the observed data. *Refer to the lecture code for an example of how the thickness of the distribution curves can be determined in proportion to the number of applications*\n",
    "\n",
    "* **Add a legend** to your plot to label the discipline distributions. You can find documentation for adding a legend to your plot [here](https://matplotlib.org/stable/api/_as_gen/matplotlib.pyplot.legend.html). Specify a `label` each time you plot a contrast distribution and call the `matplotlib.pyplot.legend()` function before displaying the full plot to display the legend."
   ]
  },
  {
   "cell_type": "code",
   "execution_count": 198,
   "metadata": {
    "tags": []
   },
   "outputs": [
    {
     "name": "stderr",
     "output_type": "stream",
     "text": [
      "/tmp/ipykernel_1140/3669619632.py:3: FutureWarning: extract_dataset has been deprecated, please use extract\n",
      "  my_data = az.extract_dataset(idata_GA_cf)\n",
      "/tmp/ipykernel_1140/3669619632.py:12: FutureWarning: Series.__getitem__ treating keys as positions is deprecated. In a future version, integer keys will always be treated as labels (consistent with DataFrame behavior). To access a value by position, use `ser.iloc[pos]`\n",
      "  _ = sns.kdeplot(diff_prob_D, linewidth=5 * w[i], label=labels[i])\n",
      "/tmp/ipykernel_1140/3669619632.py:12: FutureWarning: Series.__getitem__ treating keys as positions is deprecated. In a future version, integer keys will always be treated as labels (consistent with DataFrame behavior). To access a value by position, use `ser.iloc[pos]`\n",
      "  _ = sns.kdeplot(diff_prob_D, linewidth=5 * w[i], label=labels[i])\n",
      "/tmp/ipykernel_1140/3669619632.py:12: FutureWarning: Series.__getitem__ treating keys as positions is deprecated. In a future version, integer keys will always be treated as labels (consistent with DataFrame behavior). To access a value by position, use `ser.iloc[pos]`\n",
      "  _ = sns.kdeplot(diff_prob_D, linewidth=5 * w[i], label=labels[i])\n",
      "/tmp/ipykernel_1140/3669619632.py:12: FutureWarning: Series.__getitem__ treating keys as positions is deprecated. In a future version, integer keys will always be treated as labels (consistent with DataFrame behavior). To access a value by position, use `ser.iloc[pos]`\n",
      "  _ = sns.kdeplot(diff_prob_D, linewidth=5 * w[i], label=labels[i])\n",
      "/tmp/ipykernel_1140/3669619632.py:12: FutureWarning: Series.__getitem__ treating keys as positions is deprecated. In a future version, integer keys will always be treated as labels (consistent with DataFrame behavior). To access a value by position, use `ser.iloc[pos]`\n",
      "  _ = sns.kdeplot(diff_prob_D, linewidth=5 * w[i], label=labels[i])\n",
      "/tmp/ipykernel_1140/3669619632.py:12: FutureWarning: Series.__getitem__ treating keys as positions is deprecated. In a future version, integer keys will always be treated as labels (consistent with DataFrame behavior). To access a value by position, use `ser.iloc[pos]`\n",
      "  _ = sns.kdeplot(diff_prob_D, linewidth=5 * w[i], label=labels[i])\n",
      "/tmp/ipykernel_1140/3669619632.py:12: FutureWarning: Series.__getitem__ treating keys as positions is deprecated. In a future version, integer keys will always be treated as labels (consistent with DataFrame behavior). To access a value by position, use `ser.iloc[pos]`\n",
      "  _ = sns.kdeplot(diff_prob_D, linewidth=5 * w[i], label=labels[i])\n",
      "/tmp/ipykernel_1140/3669619632.py:12: FutureWarning: Series.__getitem__ treating keys as positions is deprecated. In a future version, integer keys will always be treated as labels (consistent with DataFrame behavior). To access a value by position, use `ser.iloc[pos]`\n",
      "  _ = sns.kdeplot(diff_prob_D, linewidth=5 * w[i], label=labels[i])\n",
      "/tmp/ipykernel_1140/3669619632.py:12: FutureWarning: Series.__getitem__ treating keys as positions is deprecated. In a future version, integer keys will always be treated as labels (consistent with DataFrame behavior). To access a value by position, use `ser.iloc[pos]`\n",
      "  _ = sns.kdeplot(diff_prob_D, linewidth=5 * w[i], label=labels[i])\n"
     ]
    },
    {
     "data": {
      "image/png": "[encoded data removed]",
      "text/plain": [
       "<Figure size 640x480 with 1 Axes>"
      ]
     },
     "metadata": {},
     "output_type": "display_data"
    }
   ],
   "source": [
    "w = apps_per_dept / total_apps\n",
    "w = w / max(w)\n",
    "my_data = az.extract_dataset(idata_GA_cf)\n",
    "probA = logistic(my_data.alpha)\n",
    "labels = df.groupby(\"discipline\").sum().index.tolist() # store labels\n",
    "\n",
    "for i in range(len(apps_per_discipline)):\n",
    "    # gender contrasts by department\n",
    "    probA_G0_D = probA[0][i]\n",
    "    probA_G1_D = probA[1][i]\n",
    "    diff_prob_D = probA_G0_D - probA_G1_D\n",
    "    _ = sns.kdeplot(diff_prob_D, linewidth=5 * w[i], label=labels[i])\n",
    "\n",
    "plt.axvline(x=0, linestyle=\"--\")\n",
    "plt.xlabel(\"Gender contrast (probability)\")\n",
    "plt.legend(title=\"Discipline\",loc='upper right') # Show labels\n",
    "sns.despine()\n"
   ]
  },
  {
   "cell_type": "markdown",
   "metadata": {
    "deletable": false,
    "editable": false
   },
   "source": [
    "<!-- END QUESTION -->\n",
    "\n",
    "<!-- BEGIN QUESTION -->\n",
    "\n",
    "**Question 3**. **(8 points)** Considering the total effect (Question 1) and the direct effects (Question 2) of reported gender, what causes seem to contribute to the differences between women and men in award rate in this dataset?\n",
    "\n",
    "It is not necessary to say whether or not there is evidence of discrimination. Simply explain how the direct effects you have estimated make sense (or not) of the total effect. **Limit your response to no more than 10 sentences.**"
   ]
  },
  {
   "cell_type": "markdown",
   "metadata": {},
   "source": [
    "There are causes (that aren't specifically known) that can favor females to males and vice versa. The data from total effect reports that more men are favored for awards since the difference in proability (female - male < 0). The direct effects suggest that there is favorability evident for both female and males. In some cases, (female - male > 0) suggesting favorability for females, and others (female - male < 0) suggesting favorability for males. Therefore, we have evidence of bias being in favor of both genders (from the direct effect model) instead of only male as suggested in the total effect model. This makes sense because when you are just analyzing direct effect, it would appear that males are awarded more. However, when analyzing the total effect, which takes any other factors into consideration, the observation that men are awarded more becomes less obvious."
   ]
  },
  {
   "cell_type": "markdown",
   "metadata": {
    "deletable": false,
    "editable": false
   },
   "source": [
    "<!-- END QUESTION -->\n",
    "\n",
    "<!-- BEGIN QUESTION -->\n",
    "\n",
    "What explanations might be unaccounted for regarding differences in award outcomes observed in this dataset? As part of your explanation, **provide at least one potential unobserved confound** that might impact the statistical inference performed in this problem. **Limit your response to no more than 3 sentences.**"
   ]
  },
  {
   "cell_type": "markdown",
   "metadata": {},
   "source": [
    "One confound could be the network that is available to each gender. It is possible men may have more connections in research during the time this data was observed (around 2012). "
   ]
  },
  {
   "cell_type": "code",
   "execution_count": 199,
   "metadata": {
    "deletable": false,
    "editable": false
   },
   "outputs": [
    {
     "data": {
      "text/html": [
       "<p><strong><pre style='display: inline;'>q3.1</pre></strong> passed! 🚀</p>"
      ],
      "text/plain": [
       "q3.1 results: All test cases passed!"
      ]
     },
     "execution_count": 199,
     "metadata": {},
     "output_type": "execute_result"
    }
   ],
   "source": [
    "grader.check(\"q3.1\")"
   ]
  },
  {
   "cell_type": "markdown",
   "metadata": {
    "deletable": false,
    "editable": false
   },
   "source": [
    "<!-- END QUESTION -->\n",
    "\n"
   ]
  },
  {
   "cell_type": "markdown",
   "metadata": {
    "deletable": false,
    "editable": false
   },
   "source": [
    "## Submission\n",
    "\n",
    "Make sure you have run all cells in your notebook in order before running the cell below, so that all images/graphs appear in the output. The cell below will generate a zip file for you to submit. **Please save before exporting!**\n",
    "\n",
    "Before attempting to export your work for submission follow this process: First, make sure you have run all cells in your notebook **in order**. Then, **save your notebook**. Finally, run the export cell below. This sequence of actions will ensure that all code/output/plots appear in the generated PDF. **Only the PDF** will be evaluated for grading purposes.  When executed, the cell below will generate a zip file for you to submit."
   ]
  },
  {
   "cell_type": "code",
   "execution_count": 200,
   "metadata": {
    "deletable": false,
    "editable": false
   },
   "outputs": [
    {
     "name": "stdout",
     "output_type": "stream",
     "text": [
      "Running your submission against local test cases...\n",
      "\n",
      "\n",
      "Your submission received the following results when run against available test cases:\n",
      "\n",
      "    q3.1 results: All test cases passed!\n"
     ]
    },
    {
     "data": {
      "text/html": [
       "\n",
       "                    <p>\n",
       "                        Your submission has been exported. Click\n",
       "                        <a href=\"hw5_2025_03_13T22_34_11_738305.zip\" download=\"hw5_2025_03_13T22_34_11_738305.zip\" target=\"_blank\">here</a> to download\n",
       "                        the zip file.\n",
       "                    </p>\n",
       "                "
      ],
      "text/plain": [
       "<IPython.core.display.HTML object>"
      ]
     },
     "metadata": {},
     "output_type": "display_data"
    }
   ],
   "source": [
    "# Save your notebook first, then run this cell to export your submission.\n",
    "grader.export(run_tests=True)"
   ]
  },
  {
   "cell_type": "markdown",
   "metadata": {},
   "source": [
    " "
   ]
  }
 ],
 "metadata": {
  "kernelspec": {
   "display_name": "Python [conda env:fnds]",
   "language": "python",
   "name": "conda-env-fnds-py"
  },
  "language_info": {
   "codemirror_mode": {
    "name": "ipython",
    "version": 3
   },
   "file_extension": ".py",
   "mimetype": "text/x-python",
   "name": "python",
   "nbconvert_exporter": "python",
   "pygments_lexer": "ipython3",
   "version": "3.9.21"
  },
  "otter": {
   "OK_FORMAT": true,
   "assignment_name": "hw5",
   "tests": {
    "q3.1": {
     "name": "q3.1",
     "points": null,
     "suites": [
      {
       "cases": [],
       "scored": true,
       "setup": "",
       "teardown": "",
       "type": "doctest"
      }
     ]
    }
   }
  }
 },
 "nbformat": 4,
 "nbformat_minor": 4
}
